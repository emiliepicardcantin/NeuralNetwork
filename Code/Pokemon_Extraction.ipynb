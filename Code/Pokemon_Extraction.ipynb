{
 "cells": [
  {
   "cell_type": "markdown",
   "metadata": {},
   "source": [
    "# Loading packages"
   ]
  },
  {
   "cell_type": "code",
   "execution_count": 77,
   "metadata": {},
   "outputs": [
    {
     "name": "stdout",
     "output_type": "stream",
     "text": [
      "The autoreload extension is already loaded. To reload it, use:\n",
      "  %reload_ext autoreload\n"
     ]
    }
   ],
   "source": [
    "%load_ext autoreload\n",
    "\n",
    "import pandas\n",
    "import os\n",
    "import sys\n",
    "from tqdm import tqdm\n",
    "import time\n",
    "from PIL import Image\n",
    "import numpy\n",
    "\n",
    "old_std_out = sys.stdout\n",
    "\n",
    "from google_images_download import google_images_download\n",
    "gid = google_images_download.googleimagesdownload()   #class instantiation\n",
    "\n",
    "# Data augmentation\n",
    "from imgaug import augmenters as iaa"
   ]
  },
  {
   "cell_type": "markdown",
   "metadata": {},
   "source": [
    "# Loading stats from CSV file"
   ]
  },
  {
   "cell_type": "code",
   "execution_count": 13,
   "metadata": {},
   "outputs": [
    {
     "name": "stdout",
     "output_type": "stream",
     "text": [
      "Pokemons : 151\n"
     ]
    }
   ],
   "source": [
    "csv_file = \"../Datasets/Pokemon/pokemon_alopez247.csv\"\n",
    "with open(csv_file, 'r') as f:\n",
    "    statistics = pandas.read_csv(f)\n",
    "# print(statistics.columns.values)\n",
    "\n",
    "pokemon_names = list(statistics[\"Name\"])\n",
    "cat_to_label = {cat:i for i,cat in enumerate(pokemon_names)}\n",
    "label_to_cat = {i:cat for i,cat in enumerate(pokemon_names)}\n",
    "\n",
    "pokemon_subset = list(statistics[statistics[\"Generation\"]==1][\"Name\"])\n",
    "print(\"Pokemons : \"+str(len(pokemon_subset)))\n",
    "# print(pokemon_subset[113:])\n",
    "\n",
    "image_output_directory = \"../Datasets/Pokemon/Images\""
   ]
  },
  {
   "cell_type": "markdown",
   "metadata": {},
   "source": [
    "# Scraping images from Google Images"
   ]
  },
  {
   "cell_type": "markdown",
   "metadata": {},
   "source": [
    "## Images with single pokemon"
   ]
  },
  {
   "cell_type": "code",
   "execution_count": 16,
   "metadata": {},
   "outputs": [
    {
     "name": "stdout",
     "output_type": "stream",
     "text": [
      "Scraping for Kabutops\n",
      "\tNumber saved : 73, offset = 73, limit = 200\n",
      "\tNumber saved : 183, offset = 200, limit = 217\n",
      "\tNumber saved : 199, offset = 217, limit = 218\n",
      "\tNumber saved : 200, offset = 218, limit = 218\n",
      "Scraping for Aerodactyl\n",
      "\tNumber saved : 70, offset = 70, limit = 200\n",
      "\tNumber saved : 177, offset = 200, limit = 223\n",
      "\tNumber saved : 193, offset = 223, limit = 230\n",
      "\tNumber saved : 198, offset = 230, limit = 232\n",
      "\tNumber saved : 200, offset = 232, limit = 232\n",
      "Scraping for Snorlax\n",
      "\tNumber saved : 76, offset = 76, limit = 200\n",
      "\tNumber saved : 188, offset = 200, limit = 212\n",
      "\tNumber saved : 199, offset = 212, limit = 213\n",
      "\tNumber saved : 199, offset = 213, limit = 214\n",
      "\tNumber saved : 200, offset = 214, limit = 214\n",
      "Scraping for Articuno\n",
      "\tNumber saved : 71, offset = 71, limit = 200\n",
      "\tNumber saved : 187, offset = 200, limit = 213\n",
      "\tNumber saved : 199, offset = 213, limit = 214\n",
      "\tNumber saved : 199, offset = 214, limit = 215\n",
      "\tNumber saved : 200, offset = 215, limit = 215\n",
      "Scraping for Zapdos\n",
      "\tNumber saved : 71, offset = 71, limit = 200\n",
      "\tNumber saved : 185, offset = 200, limit = 215\n",
      "\tNumber saved : 198, offset = 215, limit = 217\n",
      "\tNumber saved : 201, offset = 217, limit = 216\n",
      "Scraping for Moltres\n",
      "\tNumber saved : 71, offset = 71, limit = 200\n",
      "\tNumber saved : 188, offset = 200, limit = 212\n",
      "\tNumber saved : 197, offset = 212, limit = 215\n",
      "\tNumber saved : 200, offset = 215, limit = 215\n",
      "Scraping for Dratini\n",
      "\tNumber saved : 74, offset = 74, limit = 200\n",
      "\tNumber saved : 190, offset = 200, limit = 210\n",
      "\tNumber saved : 192, offset = 210, limit = 218\n",
      "\tNumber saved : 199, offset = 218, limit = 219\n",
      "\tNumber saved : 201, offset = 219, limit = 218\n",
      "Scraping for Dragonair\n",
      "\tNumber saved : 75, offset = 75, limit = 200\n",
      "\tNumber saved : 187, offset = 200, limit = 213\n",
      "\tNumber saved : 197, offset = 213, limit = 216\n",
      "\tNumber saved : 198, offset = 216, limit = 218\n",
      "\tNumber saved : 201, offset = 218, limit = 217\n",
      "Scraping for Dragonite\n",
      "\tNumber saved : 77, offset = 77, limit = 200\n",
      "\tNumber saved : 189, offset = 200, limit = 211\n",
      "\tNumber saved : 200, offset = 211, limit = 211\n",
      "Scraping for Mewtwo\n",
      "\tNumber saved : 76, offset = 76, limit = 200\n",
      "\tNumber saved : 186, offset = 200, limit = 214\n",
      "\tNumber saved : 198, offset = 214, limit = 216\n",
      "\tNumber saved : 200, offset = 216, limit = 216\n",
      "Scraping for Mew\n",
      "\tNumber saved : 75, offset = 75, limit = 200\n",
      "\tNumber saved : 189, offset = 200, limit = 211\n",
      "\tNumber saved : 196, offset = 211, limit = 215\n",
      "\tNumber saved : 198, offset = 215, limit = 217\n",
      "\tNumber saved : 201, offset = 217, limit = 216\n",
      "All done\n"
     ]
    }
   ],
   "source": [
    "num_images_per_pokemon = 200\n",
    "sys.stdout = old_std_out\n",
    "\n",
    "\n",
    "for pokemon_name in pokemon_subset[140:]:\n",
    "\n",
    "    print(\"Scraping for \"+pokemon_name)\n",
    "    directory = image_output_directory+\"/\"+pokemon_name+\"/\"\n",
    "    keywords = \"pokemon \"+pokemon_name\n",
    "    \n",
    "    num_saved = len([f for f in os.listdir(directory) if f.endswith(\"jpg\") or f.endswith(\"png\")])\n",
    "    offset = num_saved\n",
    "    limit = offset + (num_images_per_pokemon - num_saved)\n",
    "    print(\"\\tNumber saved : \"+str(num_saved)+\", offset = \"+str(offset)+\", limit = \"+str(limit))\n",
    "\n",
    "    continue_download = True\n",
    "    if num_saved >= num_images_per_pokemon:\n",
    "        continue_download = False\n",
    "    \n",
    "    while continue_download:\n",
    "        \n",
    "        try:\n",
    "            sys.stdout = open(os.devnull, \"w\")\n",
    "            gid.download({\n",
    "                \"keywords\":keywords,\n",
    "                \"limit\": limit,\n",
    "                \"type\": \"photo\",\n",
    "                \"output_directory\":image_output_directory,\n",
    "                \"image_directory\": pokemon_name,\n",
    "                \"format\": \"jpg\",\n",
    "                \"offset\": offset,\n",
    "                \"chromedriver\": \"/usr/local/bin/chromedriver\",\n",
    "                \"no_numbering\": True\n",
    "            })\n",
    "            sys.stdout = old_std_out\n",
    "        except:\n",
    "            sys.stdout = old_std_out\n",
    "            print(\"There was an error with an url, continuing...\")\n",
    "        \n",
    "        \n",
    "        num_saved = len([f for f in os.listdir(directory) if f.endswith(\"jpg\") or f.endswith(\"png\")])\n",
    "        offset = limit\n",
    "        limit = offset + (num_images_per_pokemon - num_saved)\n",
    "        print(\"\\tNumber saved : \"+str(num_saved)+\", offset = \"+str(offset)+\", limit = \"+str(limit))\n",
    "        \n",
    "        if num_saved >= num_images_per_pokemon:\n",
    "            continue_download = False\n",
    "    \n",
    "print(\"All done\")"
   ]
  },
  {
   "cell_type": "markdown",
   "metadata": {},
   "source": [
    "## Images with more than one pokemon"
   ]
  },
  {
   "cell_type": "code",
   "execution_count": 48,
   "metadata": {},
   "outputs": [
    {
     "name": "stdout",
     "output_type": "stream",
     "text": [
      "All done\n"
     ]
    }
   ],
   "source": [
    "output_directory = \"../Datasets/Pokemon/MultiLabelImages/\"\n",
    "sys.stdout = old_std_out\n",
    "\n",
    "sys.stdout = open(os.devnull, \"w\")\n",
    "gid.download({\n",
    "    \"keywords\": \"pokemon season 1 episodes\",\n",
    "    \"limit\": 120,\n",
    "    \"type\": \"photo\",\n",
    "    \"output_directory\":output_directory,\n",
    "    \"no_directory\": True,\n",
    "    \"format\": \"png\",\n",
    "    \"offset\": 90,\n",
    "    \"chromedriver\": \"/usr/local/bin/chromedriver\",\n",
    "    \"no_numbering\": True\n",
    "})\n",
    "sys.stdout = old_std_out\n",
    "\n",
    "print(\"All done\")"
   ]
  },
  {
   "cell_type": "markdown",
   "metadata": {},
   "source": [
    "# Removing all broken images from folder"
   ]
  },
  {
   "cell_type": "code",
   "execution_count": null,
   "metadata": {},
   "outputs": [],
   "source": [
    "%autoreload 2\n",
    "import data_processing as DP\n",
    "\n",
    "root_image_folder = \"../Datasets/Pokemon/Images/\"\n",
    "for pokemon_name in pokemon_subset:\n",
    "    DP.delete_broken_images(root_image_folder+pokemon_name+\"/\")"
   ]
  },
  {
   "cell_type": "markdown",
   "metadata": {},
   "source": [
    "# Making all images square"
   ]
  },
  {
   "cell_type": "code",
   "execution_count": 38,
   "metadata": {},
   "outputs": [
    {
     "name": "stdout",
     "output_type": "stream",
     "text": [
      "Input directory : ../Datasets/Pokemon/Images/Ivysaur/\n",
      "Output directory : ../Datasets/Pokemon/SquareImages/Ivysaur\n"
     ]
    },
    {
     "name": "stderr",
     "output_type": "stream",
     "text": [
      "Resizing image : 100%|██████████| 203/203 [00:11<00:00, 18.14it/s]\n"
     ]
    },
    {
     "name": "stdout",
     "output_type": "stream",
     "text": [
      "Input directory : ../Datasets/Pokemon/Images/Venusaur/\n",
      "Output directory : ../Datasets/Pokemon/SquareImages/Venusaur\n"
     ]
    },
    {
     "name": "stderr",
     "output_type": "stream",
     "text": [
      "Resizing image : 100%|██████████| 209/209 [00:10<00:00, 19.27it/s]\n"
     ]
    },
    {
     "name": "stdout",
     "output_type": "stream",
     "text": [
      "Input directory : ../Datasets/Pokemon/Images/Charmander/\n",
      "Output directory : ../Datasets/Pokemon/SquareImages/Charmander\n"
     ]
    },
    {
     "name": "stderr",
     "output_type": "stream",
     "text": [
      "Resizing image : 100%|██████████| 209/209 [00:10<00:00, 16.60it/s]\n"
     ]
    },
    {
     "name": "stdout",
     "output_type": "stream",
     "text": [
      "Input directory : ../Datasets/Pokemon/Images/Charmeleon/\n",
      "Output directory : ../Datasets/Pokemon/SquareImages/Charmeleon\n"
     ]
    },
    {
     "name": "stderr",
     "output_type": "stream",
     "text": [
      "Resizing image : 100%|██████████| 203/203 [00:09<00:00, 27.48it/s]\n"
     ]
    },
    {
     "name": "stdout",
     "output_type": "stream",
     "text": [
      "Input directory : ../Datasets/Pokemon/Images/Charizard/\n",
      "Output directory : ../Datasets/Pokemon/SquareImages/Charizard\n"
     ]
    },
    {
     "name": "stderr",
     "output_type": "stream",
     "text": [
      "Resizing image :  94%|█████████▍| 195/208 [00:12<00:01,  8.18it/s]/Users/emiliepicardcantin/anaconda3/lib/python3.6/site-packages/PIL/Image.py:953: UserWarning: Palette images with Transparency   expressed in bytes should be converted to RGBA images\n",
      "  'to RGBA images')\n",
      "Resizing image : 100%|██████████| 208/208 [00:13<00:00, 15.65it/s]\n"
     ]
    },
    {
     "name": "stdout",
     "output_type": "stream",
     "text": [
      "Input directory : ../Datasets/Pokemon/Images/Squirtle/\n",
      "Output directory : ../Datasets/Pokemon/SquareImages/Squirtle\n"
     ]
    },
    {
     "name": "stderr",
     "output_type": "stream",
     "text": [
      "Resizing image : 100%|██████████| 207/207 [00:15<00:00, 13.14it/s]\n"
     ]
    },
    {
     "name": "stdout",
     "output_type": "stream",
     "text": [
      "Input directory : ../Datasets/Pokemon/Images/Wartortle/\n",
      "Output directory : ../Datasets/Pokemon/SquareImages/Wartortle\n"
     ]
    },
    {
     "name": "stderr",
     "output_type": "stream",
     "text": [
      "Resizing image : 100%|██████████| 203/203 [00:17<00:00, 17.41it/s]\n"
     ]
    },
    {
     "name": "stdout",
     "output_type": "stream",
     "text": [
      "Input directory : ../Datasets/Pokemon/Images/Blastoise/\n",
      "Output directory : ../Datasets/Pokemon/SquareImages/Blastoise\n"
     ]
    },
    {
     "name": "stderr",
     "output_type": "stream",
     "text": [
      "Resizing image : 100%|██████████| 202/202 [00:20<00:00,  9.98it/s]\n"
     ]
    },
    {
     "name": "stdout",
     "output_type": "stream",
     "text": [
      "Input directory : ../Datasets/Pokemon/Images/Caterpie/\n",
      "Output directory : ../Datasets/Pokemon/SquareImages/Caterpie\n"
     ]
    },
    {
     "name": "stderr",
     "output_type": "stream",
     "text": [
      "Resizing image : 100%|██████████| 203/203 [00:23<00:00,  8.53it/s]\n"
     ]
    },
    {
     "name": "stdout",
     "output_type": "stream",
     "text": [
      "Input directory : ../Datasets/Pokemon/Images/Metapod/\n",
      "Output directory : ../Datasets/Pokemon/SquareImages/Metapod\n"
     ]
    },
    {
     "name": "stderr",
     "output_type": "stream",
     "text": [
      "Resizing image : 100%|██████████| 202/202 [00:27<00:00,  2.64it/s]\n"
     ]
    },
    {
     "name": "stdout",
     "output_type": "stream",
     "text": [
      "Input directory : ../Datasets/Pokemon/Images/Butterfree/\n",
      "Output directory : ../Datasets/Pokemon/SquareImages/Butterfree\n"
     ]
    },
    {
     "name": "stderr",
     "output_type": "stream",
     "text": [
      "Resizing image : 100%|██████████| 202/202 [00:24<00:00,  8.23it/s]\n"
     ]
    },
    {
     "name": "stdout",
     "output_type": "stream",
     "text": [
      "Input directory : ../Datasets/Pokemon/Images/Weedle/\n",
      "Output directory : ../Datasets/Pokemon/SquareImages/Weedle\n"
     ]
    },
    {
     "name": "stderr",
     "output_type": "stream",
     "text": [
      "Resizing image : 100%|██████████| 201/201 [00:23<00:00,  6.83it/s]\n"
     ]
    },
    {
     "name": "stdout",
     "output_type": "stream",
     "text": [
      "Input directory : ../Datasets/Pokemon/Images/Kakuna/\n",
      "Output directory : ../Datasets/Pokemon/SquareImages/Kakuna\n"
     ]
    },
    {
     "name": "stderr",
     "output_type": "stream",
     "text": [
      "Resizing image : 100%|██████████| 202/202 [00:19<00:00, 10.22it/s]\n"
     ]
    },
    {
     "name": "stdout",
     "output_type": "stream",
     "text": [
      "Input directory : ../Datasets/Pokemon/Images/Beedrill/\n",
      "Output directory : ../Datasets/Pokemon/SquareImages/Beedrill\n"
     ]
    },
    {
     "name": "stderr",
     "output_type": "stream",
     "text": [
      "Resizing image : 100%|██████████| 201/201 [00:20<00:00, 10.99it/s]\n"
     ]
    },
    {
     "name": "stdout",
     "output_type": "stream",
     "text": [
      "Input directory : ../Datasets/Pokemon/Images/Pidgey/\n",
      "Output directory : ../Datasets/Pokemon/SquareImages/Pidgey\n"
     ]
    },
    {
     "name": "stderr",
     "output_type": "stream",
     "text": [
      "Resizing image : 100%|██████████| 201/201 [00:16<00:00,  8.71it/s]\n"
     ]
    },
    {
     "name": "stdout",
     "output_type": "stream",
     "text": [
      "Input directory : ../Datasets/Pokemon/Images/Pidgeotto/\n",
      "Output directory : ../Datasets/Pokemon/SquareImages/Pidgeotto\n"
     ]
    },
    {
     "name": "stderr",
     "output_type": "stream",
     "text": [
      "Resizing image :  84%|████████▍ | 168/200 [00:14<00:01, 18.08it/s]/Users/emiliepicardcantin/anaconda3/lib/python3.6/site-packages/PIL/TiffImagePlugin.py:771: UserWarning: Corrupt EXIF data.  Expecting to read 4 bytes but only got 0. \n",
      "  warnings.warn(str(msg))\n",
      "Resizing image : 100%|██████████| 200/200 [00:17<00:00, 10.29it/s]\n"
     ]
    },
    {
     "name": "stdout",
     "output_type": "stream",
     "text": [
      "Input directory : ../Datasets/Pokemon/Images/Pidgeot/\n",
      "Output directory : ../Datasets/Pokemon/SquareImages/Pidgeot\n"
     ]
    },
    {
     "name": "stderr",
     "output_type": "stream",
     "text": [
      "Resizing image : 100%|██████████| 201/201 [00:26<00:00,  6.01it/s]\n"
     ]
    },
    {
     "name": "stdout",
     "output_type": "stream",
     "text": [
      "Input directory : ../Datasets/Pokemon/Images/Rattata/\n",
      "Output directory : ../Datasets/Pokemon/SquareImages/Rattata\n"
     ]
    },
    {
     "name": "stderr",
     "output_type": "stream",
     "text": [
      "Resizing image : 100%|██████████| 203/203 [00:18<00:00, 12.30it/s]\n"
     ]
    },
    {
     "name": "stdout",
     "output_type": "stream",
     "text": [
      "Input directory : ../Datasets/Pokemon/Images/Raticate/\n",
      "Output directory : ../Datasets/Pokemon/SquareImages/Raticate\n"
     ]
    },
    {
     "name": "stderr",
     "output_type": "stream",
     "text": [
      "Resizing image : 100%|██████████| 202/202 [00:22<00:00,  8.80it/s]\n"
     ]
    },
    {
     "name": "stdout",
     "output_type": "stream",
     "text": [
      "Input directory : ../Datasets/Pokemon/Images/Spearow/\n",
      "Output directory : ../Datasets/Pokemon/SquareImages/Spearow\n"
     ]
    },
    {
     "name": "stderr",
     "output_type": "stream",
     "text": [
      "Resizing image : 100%|██████████| 202/202 [00:21<00:00,  9.41it/s]\n"
     ]
    },
    {
     "name": "stdout",
     "output_type": "stream",
     "text": [
      "Input directory : ../Datasets/Pokemon/Images/Fearow/\n",
      "Output directory : ../Datasets/Pokemon/SquareImages/Fearow\n"
     ]
    },
    {
     "name": "stderr",
     "output_type": "stream",
     "text": [
      "Resizing image : 100%|██████████| 201/201 [00:23<00:00,  8.60it/s]\n"
     ]
    },
    {
     "name": "stdout",
     "output_type": "stream",
     "text": [
      "Input directory : ../Datasets/Pokemon/Images/Ekans/\n",
      "Output directory : ../Datasets/Pokemon/SquareImages/Ekans\n"
     ]
    },
    {
     "name": "stderr",
     "output_type": "stream",
     "text": [
      "Resizing image : 100%|██████████| 203/203 [00:21<00:00,  9.47it/s]\n"
     ]
    },
    {
     "name": "stdout",
     "output_type": "stream",
     "text": [
      "Input directory : ../Datasets/Pokemon/Images/Arbok/\n",
      "Output directory : ../Datasets/Pokemon/SquareImages/Arbok\n"
     ]
    },
    {
     "name": "stderr",
     "output_type": "stream",
     "text": [
      "Resizing image : 100%|██████████| 203/203 [00:24<00:00,  8.30it/s]\n"
     ]
    },
    {
     "name": "stdout",
     "output_type": "stream",
     "text": [
      "Input directory : ../Datasets/Pokemon/Images/Pikachu/\n",
      "Output directory : ../Datasets/Pokemon/SquareImages/Pikachu\n"
     ]
    },
    {
     "name": "stderr",
     "output_type": "stream",
     "text": [
      "Resizing image : 100%|██████████| 210/210 [00:20<00:00, 18.93it/s]\n"
     ]
    },
    {
     "name": "stdout",
     "output_type": "stream",
     "text": [
      "Input directory : ../Datasets/Pokemon/Images/Raichu/\n",
      "Output directory : ../Datasets/Pokemon/SquareImages/Raichu\n"
     ]
    },
    {
     "name": "stderr",
     "output_type": "stream",
     "text": [
      "Resizing image : 100%|██████████| 201/201 [00:15<00:00, 18.20it/s]\n"
     ]
    },
    {
     "name": "stdout",
     "output_type": "stream",
     "text": [
      "Input directory : ../Datasets/Pokemon/Images/Sandshrew/\n",
      "Output directory : ../Datasets/Pokemon/SquareImages/Sandshrew\n"
     ]
    },
    {
     "name": "stderr",
     "output_type": "stream",
     "text": [
      "Resizing image : 100%|██████████| 202/202 [00:22<00:00,  9.02it/s]\n"
     ]
    },
    {
     "name": "stdout",
     "output_type": "stream",
     "text": [
      "Input directory : ../Datasets/Pokemon/Images/Sandslash/\n",
      "Output directory : ../Datasets/Pokemon/SquareImages/Sandslash\n"
     ]
    },
    {
     "name": "stderr",
     "output_type": "stream",
     "text": [
      "Resizing image : 100%|██████████| 201/201 [00:20<00:00,  9.69it/s]\n"
     ]
    },
    {
     "name": "stdout",
     "output_type": "stream",
     "text": [
      "Input directory : ../Datasets/Pokemon/Images/Nidoran♀/\n",
      "Output directory : ../Datasets/Pokemon/SquareImages/Nidoran♀\n"
     ]
    },
    {
     "name": "stderr",
     "output_type": "stream",
     "text": [
      "Resizing image : 100%|██████████| 200/200 [00:14<00:00, 22.09it/s]\n"
     ]
    },
    {
     "name": "stdout",
     "output_type": "stream",
     "text": [
      "Input directory : ../Datasets/Pokemon/Images/Nidorina/\n",
      "Output directory : ../Datasets/Pokemon/SquareImages/Nidorina\n"
     ]
    },
    {
     "name": "stderr",
     "output_type": "stream",
     "text": [
      "Resizing image : 100%|██████████| 201/201 [00:13<00:00, 15.21it/s]\n"
     ]
    },
    {
     "name": "stdout",
     "output_type": "stream",
     "text": [
      "Input directory : ../Datasets/Pokemon/Images/Nidoqueen/\n",
      "Output directory : ../Datasets/Pokemon/SquareImages/Nidoqueen\n"
     ]
    },
    {
     "name": "stderr",
     "output_type": "stream",
     "text": [
      "Resizing image : 100%|██████████| 200/200 [00:16<00:00, 12.43it/s]\n"
     ]
    },
    {
     "name": "stdout",
     "output_type": "stream",
     "text": [
      "Input directory : ../Datasets/Pokemon/Images/Nidoran♂/\n",
      "Output directory : ../Datasets/Pokemon/SquareImages/Nidoran♂\n"
     ]
    },
    {
     "name": "stderr",
     "output_type": "stream",
     "text": [
      "Resizing image : 100%|██████████| 200/200 [04:17<00:00,  1.29s/it]  \n"
     ]
    },
    {
     "name": "stdout",
     "output_type": "stream",
     "text": [
      "Input directory : ../Datasets/Pokemon/Images/Nidorino/\n",
      "Output directory : ../Datasets/Pokemon/SquareImages/Nidorino\n"
     ]
    },
    {
     "name": "stderr",
     "output_type": "stream",
     "text": [
      "Resizing image : 100%|██████████| 201/201 [00:16<00:00, 12.26it/s]\n"
     ]
    },
    {
     "name": "stdout",
     "output_type": "stream",
     "text": [
      "Input directory : ../Datasets/Pokemon/Images/Nidoking/\n",
      "Output directory : ../Datasets/Pokemon/SquareImages/Nidoking\n"
     ]
    },
    {
     "name": "stderr",
     "output_type": "stream",
     "text": [
      "Resizing image : 100%|██████████| 203/203 [00:15<00:00, 15.06it/s]\n"
     ]
    },
    {
     "name": "stdout",
     "output_type": "stream",
     "text": [
      "Input directory : ../Datasets/Pokemon/Images/Clefairy/\n",
      "Output directory : ../Datasets/Pokemon/SquareImages/Clefairy\n"
     ]
    },
    {
     "name": "stderr",
     "output_type": "stream",
     "text": [
      "Resizing image : 100%|██████████| 208/208 [02:43<00:00,  1.28it/s]\n"
     ]
    },
    {
     "name": "stdout",
     "output_type": "stream",
     "text": [
      "Input directory : ../Datasets/Pokemon/Images/Clefable/\n",
      "Output directory : ../Datasets/Pokemon/SquareImages/Clefable\n"
     ]
    },
    {
     "name": "stderr",
     "output_type": "stream",
     "text": [
      "Resizing image : 100%|██████████| 200/200 [00:15<00:00, 16.04it/s]\n"
     ]
    },
    {
     "name": "stdout",
     "output_type": "stream",
     "text": [
      "Input directory : ../Datasets/Pokemon/Images/Vulpix/\n",
      "Output directory : ../Datasets/Pokemon/SquareImages/Vulpix\n"
     ]
    },
    {
     "name": "stderr",
     "output_type": "stream",
     "text": [
      "Resizing image : 100%|██████████| 202/202 [00:15<00:00, 12.85it/s]\n"
     ]
    },
    {
     "name": "stdout",
     "output_type": "stream",
     "text": [
      "Input directory : ../Datasets/Pokemon/Images/Ninetales/\n",
      "Output directory : ../Datasets/Pokemon/SquareImages/Ninetales\n"
     ]
    },
    {
     "name": "stderr",
     "output_type": "stream",
     "text": [
      "Resizing image : 100%|██████████| 201/201 [00:14<00:00, 14.54it/s]\n"
     ]
    },
    {
     "name": "stdout",
     "output_type": "stream",
     "text": [
      "Input directory : ../Datasets/Pokemon/Images/Jigglypuff/\n",
      "Output directory : ../Datasets/Pokemon/SquareImages/Jigglypuff\n"
     ]
    },
    {
     "name": "stderr",
     "output_type": "stream",
     "text": [
      "Resizing image : 100%|██████████| 205/205 [00:12<00:00, 12.92it/s]\n"
     ]
    },
    {
     "name": "stdout",
     "output_type": "stream",
     "text": [
      "Input directory : ../Datasets/Pokemon/Images/Wigglytuff/\n",
      "Output directory : ../Datasets/Pokemon/SquareImages/Wigglytuff\n"
     ]
    },
    {
     "name": "stderr",
     "output_type": "stream",
     "text": [
      "Resizing image : 100%|██████████| 204/204 [00:15<00:00, 13.37it/s]\n"
     ]
    },
    {
     "name": "stdout",
     "output_type": "stream",
     "text": [
      "Input directory : ../Datasets/Pokemon/Images/Zubat/\n",
      "Output directory : ../Datasets/Pokemon/SquareImages/Zubat\n"
     ]
    },
    {
     "name": "stderr",
     "output_type": "stream",
     "text": [
      "Resizing image : 100%|██████████| 205/205 [00:16<00:00, 15.43it/s]\n"
     ]
    },
    {
     "name": "stdout",
     "output_type": "stream",
     "text": [
      "Input directory : ../Datasets/Pokemon/Images/Golbat/\n",
      "Output directory : ../Datasets/Pokemon/SquareImages/Golbat\n"
     ]
    },
    {
     "name": "stderr",
     "output_type": "stream",
     "text": [
      "Resizing image : 100%|██████████| 204/204 [00:16<00:00, 12.58it/s]\n"
     ]
    },
    {
     "name": "stdout",
     "output_type": "stream",
     "text": [
      "Input directory : ../Datasets/Pokemon/Images/Oddish/\n",
      "Output directory : ../Datasets/Pokemon/SquareImages/Oddish\n"
     ]
    },
    {
     "name": "stderr",
     "output_type": "stream",
     "text": [
      "Resizing image : 100%|██████████| 204/204 [00:12<00:00, 16.80it/s]\n"
     ]
    },
    {
     "name": "stdout",
     "output_type": "stream",
     "text": [
      "Input directory : ../Datasets/Pokemon/Images/Gloom/\n",
      "Output directory : ../Datasets/Pokemon/SquareImages/Gloom\n"
     ]
    },
    {
     "name": "stderr",
     "output_type": "stream",
     "text": [
      "Resizing image : 100%|██████████| 200/200 [00:10<00:00, 18.73it/s]\n"
     ]
    },
    {
     "name": "stdout",
     "output_type": "stream",
     "text": [
      "Input directory : ../Datasets/Pokemon/Images/Vileplume/\n",
      "Output directory : ../Datasets/Pokemon/SquareImages/Vileplume\n"
     ]
    },
    {
     "name": "stderr",
     "output_type": "stream",
     "text": [
      "Resizing image : 100%|██████████| 202/202 [00:09<00:00, 27.62it/s]\n"
     ]
    },
    {
     "name": "stdout",
     "output_type": "stream",
     "text": [
      "Input directory : ../Datasets/Pokemon/Images/Paras/\n",
      "Output directory : ../Datasets/Pokemon/SquareImages/Paras\n"
     ]
    },
    {
     "name": "stderr",
     "output_type": "stream",
     "text": [
      "Resizing image : 100%|██████████| 203/203 [00:09<00:00, 21.62it/s]\n"
     ]
    },
    {
     "name": "stdout",
     "output_type": "stream",
     "text": [
      "Input directory : ../Datasets/Pokemon/Images/Parasect/\n",
      "Output directory : ../Datasets/Pokemon/SquareImages/Parasect\n"
     ]
    },
    {
     "name": "stderr",
     "output_type": "stream",
     "text": [
      "Resizing image : 100%|██████████| 201/201 [00:09<00:00, 21.29it/s]\n"
     ]
    },
    {
     "name": "stdout",
     "output_type": "stream",
     "text": [
      "Input directory : ../Datasets/Pokemon/Images/Venonat/\n",
      "Output directory : ../Datasets/Pokemon/SquareImages/Venonat\n"
     ]
    },
    {
     "name": "stderr",
     "output_type": "stream",
     "text": [
      "Resizing image : 100%|██████████| 206/206 [00:09<00:00, 28.10it/s]\n"
     ]
    },
    {
     "name": "stdout",
     "output_type": "stream",
     "text": [
      "Input directory : ../Datasets/Pokemon/Images/Venomoth/\n",
      "Output directory : ../Datasets/Pokemon/SquareImages/Venomoth\n"
     ]
    },
    {
     "name": "stderr",
     "output_type": "stream",
     "text": [
      "Resizing image : 100%|██████████| 200/200 [00:08<00:00, 28.46it/s]\n"
     ]
    },
    {
     "name": "stdout",
     "output_type": "stream",
     "text": [
      "Input directory : ../Datasets/Pokemon/Images/Diglett/\n",
      "Output directory : ../Datasets/Pokemon/SquareImages/Diglett\n"
     ]
    },
    {
     "name": "stderr",
     "output_type": "stream",
     "text": [
      "Resizing image : 100%|██████████| 203/203 [00:11<00:00, 17.43it/s]\n"
     ]
    },
    {
     "name": "stdout",
     "output_type": "stream",
     "text": [
      "Input directory : ../Datasets/Pokemon/Images/Dugtrio/\n",
      "Output directory : ../Datasets/Pokemon/SquareImages/Dugtrio\n"
     ]
    },
    {
     "name": "stderr",
     "output_type": "stream",
     "text": [
      "Resizing image : 100%|██████████| 203/203 [00:16<00:00, 12.50it/s]\n"
     ]
    },
    {
     "name": "stdout",
     "output_type": "stream",
     "text": [
      "Input directory : ../Datasets/Pokemon/Images/Meowth/\n",
      "Output directory : ../Datasets/Pokemon/SquareImages/Meowth\n"
     ]
    },
    {
     "name": "stderr",
     "output_type": "stream",
     "text": [
      "Resizing image : 100%|██████████| 202/202 [00:12<00:00, 16.40it/s]\n"
     ]
    },
    {
     "name": "stdout",
     "output_type": "stream",
     "text": [
      "Input directory : ../Datasets/Pokemon/Images/Persian/\n",
      "Output directory : ../Datasets/Pokemon/SquareImages/Persian\n"
     ]
    },
    {
     "name": "stderr",
     "output_type": "stream",
     "text": [
      "Resizing image : 100%|██████████| 204/204 [00:14<00:00, 15.60it/s]\n"
     ]
    },
    {
     "name": "stdout",
     "output_type": "stream",
     "text": [
      "Input directory : ../Datasets/Pokemon/Images/Psyduck/\n",
      "Output directory : ../Datasets/Pokemon/SquareImages/Psyduck\n"
     ]
    },
    {
     "name": "stderr",
     "output_type": "stream",
     "text": [
      "Resizing image : 100%|██████████| 205/205 [00:18<00:00, 10.89it/s]\n"
     ]
    },
    {
     "name": "stdout",
     "output_type": "stream",
     "text": [
      "Input directory : ../Datasets/Pokemon/Images/Golduck/\n",
      "Output directory : ../Datasets/Pokemon/SquareImages/Golduck\n"
     ]
    },
    {
     "name": "stderr",
     "output_type": "stream",
     "text": [
      "Resizing image : 100%|██████████| 203/203 [00:16<00:00, 12.41it/s]\n"
     ]
    },
    {
     "name": "stdout",
     "output_type": "stream",
     "text": [
      "Input directory : ../Datasets/Pokemon/Images/Mankey/\n",
      "Output directory : ../Datasets/Pokemon/SquareImages/Mankey\n"
     ]
    },
    {
     "name": "stderr",
     "output_type": "stream",
     "text": [
      "Resizing image : 100%|██████████| 202/202 [00:16<00:00, 12.44it/s]\n"
     ]
    },
    {
     "name": "stdout",
     "output_type": "stream",
     "text": [
      "Input directory : ../Datasets/Pokemon/Images/Primeape/\n",
      "Output directory : ../Datasets/Pokemon/SquareImages/Primeape\n"
     ]
    },
    {
     "name": "stderr",
     "output_type": "stream",
     "text": [
      "Resizing image : 100%|██████████| 202/202 [00:13<00:00, 15.52it/s]\n"
     ]
    },
    {
     "name": "stdout",
     "output_type": "stream",
     "text": [
      "Input directory : ../Datasets/Pokemon/Images/Growlithe/\n",
      "Output directory : ../Datasets/Pokemon/SquareImages/Growlithe\n"
     ]
    },
    {
     "name": "stderr",
     "output_type": "stream",
     "text": [
      "Resizing image : 100%|██████████| 205/205 [00:14<00:00, 13.87it/s]\n"
     ]
    },
    {
     "name": "stdout",
     "output_type": "stream",
     "text": [
      "Input directory : ../Datasets/Pokemon/Images/Arcanine/\n",
      "Output directory : ../Datasets/Pokemon/SquareImages/Arcanine\n"
     ]
    },
    {
     "name": "stderr",
     "output_type": "stream",
     "text": [
      "Resizing image : 100%|██████████| 203/203 [00:16<00:00, 15.70it/s]\n"
     ]
    },
    {
     "name": "stdout",
     "output_type": "stream",
     "text": [
      "Input directory : ../Datasets/Pokemon/Images/Poliwag/\n",
      "Output directory : ../Datasets/Pokemon/SquareImages/Poliwag\n"
     ]
    },
    {
     "name": "stderr",
     "output_type": "stream",
     "text": [
      "Resizing image : 100%|██████████| 206/206 [00:16<00:00, 12.25it/s]\n"
     ]
    },
    {
     "name": "stdout",
     "output_type": "stream",
     "text": [
      "Input directory : ../Datasets/Pokemon/Images/Poliwhirl/\n",
      "Output directory : ../Datasets/Pokemon/SquareImages/Poliwhirl\n"
     ]
    },
    {
     "name": "stderr",
     "output_type": "stream",
     "text": [
      "Resizing image : 100%|██████████| 205/205 [00:16<00:00, 12.25it/s]\n"
     ]
    },
    {
     "name": "stdout",
     "output_type": "stream",
     "text": [
      "Input directory : ../Datasets/Pokemon/Images/Poliwrath/\n",
      "Output directory : ../Datasets/Pokemon/SquareImages/Poliwrath\n"
     ]
    },
    {
     "name": "stderr",
     "output_type": "stream",
     "text": [
      "Resizing image : 100%|██████████| 201/201 [00:16<00:00, 12.51it/s]\n"
     ]
    },
    {
     "name": "stdout",
     "output_type": "stream",
     "text": [
      "Input directory : ../Datasets/Pokemon/Images/Abra/\n",
      "Output directory : ../Datasets/Pokemon/SquareImages/Abra\n"
     ]
    },
    {
     "name": "stderr",
     "output_type": "stream",
     "text": [
      "Resizing image : 100%|██████████| 203/203 [00:20<00:00,  9.92it/s]\n"
     ]
    },
    {
     "name": "stdout",
     "output_type": "stream",
     "text": [
      "Input directory : ../Datasets/Pokemon/Images/Kadabra/\n",
      "Output directory : ../Datasets/Pokemon/SquareImages/Kadabra\n"
     ]
    },
    {
     "name": "stderr",
     "output_type": "stream",
     "text": [
      "Resizing image : 100%|██████████| 200/200 [02:53<00:00,  1.15it/s]\n"
     ]
    },
    {
     "name": "stdout",
     "output_type": "stream",
     "text": [
      "Input directory : ../Datasets/Pokemon/Images/Alakazam/\n",
      "Output directory : ../Datasets/Pokemon/SquareImages/Alakazam\n"
     ]
    },
    {
     "name": "stderr",
     "output_type": "stream",
     "text": [
      "Resizing image : 100%|██████████| 202/202 [00:15<00:00, 12.73it/s]\n"
     ]
    },
    {
     "name": "stdout",
     "output_type": "stream",
     "text": [
      "Input directory : ../Datasets/Pokemon/Images/Machop/\n",
      "Output directory : ../Datasets/Pokemon/SquareImages/Machop\n"
     ]
    },
    {
     "name": "stderr",
     "output_type": "stream",
     "text": [
      "Resizing image : 100%|██████████| 206/206 [00:16<00:00,  9.63it/s]\n"
     ]
    },
    {
     "name": "stdout",
     "output_type": "stream",
     "text": [
      "Input directory : ../Datasets/Pokemon/Images/Machoke/\n",
      "Output directory : ../Datasets/Pokemon/SquareImages/Machoke\n"
     ]
    },
    {
     "name": "stderr",
     "output_type": "stream",
     "text": [
      "Resizing image : 100%|██████████| 202/202 [00:11<00:00, 17.25it/s]\n"
     ]
    },
    {
     "name": "stdout",
     "output_type": "stream",
     "text": [
      "Input directory : ../Datasets/Pokemon/Images/Machamp/\n",
      "Output directory : ../Datasets/Pokemon/SquareImages/Machamp\n"
     ]
    },
    {
     "name": "stderr",
     "output_type": "stream",
     "text": [
      "Resizing image : 100%|██████████| 208/208 [00:13<00:00, 15.40it/s]\n"
     ]
    },
    {
     "name": "stdout",
     "output_type": "stream",
     "text": [
      "Input directory : ../Datasets/Pokemon/Images/Bellsprout/\n",
      "Output directory : ../Datasets/Pokemon/SquareImages/Bellsprout\n"
     ]
    },
    {
     "name": "stderr",
     "output_type": "stream",
     "text": [
      "Resizing image : 100%|██████████| 203/203 [00:15<00:00, 13.17it/s]\n"
     ]
    },
    {
     "name": "stdout",
     "output_type": "stream",
     "text": [
      "Input directory : ../Datasets/Pokemon/Images/Weepinbell/\n",
      "Output directory : ../Datasets/Pokemon/SquareImages/Weepinbell\n"
     ]
    },
    {
     "name": "stderr",
     "output_type": "stream",
     "text": [
      "Resizing image : 100%|██████████| 202/202 [00:16<00:00, 12.10it/s]\n"
     ]
    },
    {
     "name": "stdout",
     "output_type": "stream",
     "text": [
      "Input directory : ../Datasets/Pokemon/Images/Victreebel/\n",
      "Output directory : ../Datasets/Pokemon/SquareImages/Victreebel\n"
     ]
    },
    {
     "name": "stderr",
     "output_type": "stream",
     "text": [
      "Resizing image : 100%|██████████| 202/202 [00:14<00:00, 13.93it/s]\n"
     ]
    },
    {
     "name": "stdout",
     "output_type": "stream",
     "text": [
      "Input directory : ../Datasets/Pokemon/Images/Tentacool/\n",
      "Output directory : ../Datasets/Pokemon/SquareImages/Tentacool\n"
     ]
    },
    {
     "name": "stderr",
     "output_type": "stream",
     "text": [
      "Resizing image : 100%|██████████| 205/205 [00:14<00:00, 14.48it/s]\n"
     ]
    },
    {
     "name": "stdout",
     "output_type": "stream",
     "text": [
      "Input directory : ../Datasets/Pokemon/Images/Tentacruel/\n",
      "Output directory : ../Datasets/Pokemon/SquareImages/Tentacruel\n"
     ]
    },
    {
     "name": "stderr",
     "output_type": "stream",
     "text": [
      "Resizing image : 100%|██████████| 203/203 [00:14<00:00,  6.86it/s]\n"
     ]
    },
    {
     "name": "stdout",
     "output_type": "stream",
     "text": [
      "Input directory : ../Datasets/Pokemon/Images/Geodude/\n",
      "Output directory : ../Datasets/Pokemon/SquareImages/Geodude\n"
     ]
    },
    {
     "name": "stderr",
     "output_type": "stream",
     "text": [
      "Resizing image : 100%|██████████| 206/206 [00:17<00:00, 12.05it/s]\n"
     ]
    },
    {
     "name": "stdout",
     "output_type": "stream",
     "text": [
      "Input directory : ../Datasets/Pokemon/Images/Graveler/\n",
      "Output directory : ../Datasets/Pokemon/SquareImages/Graveler\n"
     ]
    },
    {
     "name": "stderr",
     "output_type": "stream",
     "text": [
      "Resizing image : 100%|██████████| 206/206 [00:13<00:00, 15.24it/s]\n"
     ]
    },
    {
     "name": "stdout",
     "output_type": "stream",
     "text": [
      "Input directory : ../Datasets/Pokemon/Images/Golem/\n",
      "Output directory : ../Datasets/Pokemon/SquareImages/Golem\n"
     ]
    },
    {
     "name": "stderr",
     "output_type": "stream",
     "text": [
      "Resizing image : 100%|██████████| 203/203 [00:10<00:00, 19.12it/s]\n"
     ]
    },
    {
     "name": "stdout",
     "output_type": "stream",
     "text": [
      "Input directory : ../Datasets/Pokemon/Images/Ponyta/\n",
      "Output directory : ../Datasets/Pokemon/SquareImages/Ponyta\n"
     ]
    },
    {
     "name": "stderr",
     "output_type": "stream",
     "text": [
      "Resizing image : 100%|██████████| 204/204 [00:09<00:00, 21.33it/s]\n"
     ]
    },
    {
     "name": "stdout",
     "output_type": "stream",
     "text": [
      "Input directory : ../Datasets/Pokemon/Images/Rapidash/\n",
      "Output directory : ../Datasets/Pokemon/SquareImages/Rapidash\n"
     ]
    },
    {
     "name": "stderr",
     "output_type": "stream",
     "text": [
      "Resizing image : 100%|██████████| 202/202 [00:10<00:00, 19.86it/s]\n"
     ]
    },
    {
     "name": "stdout",
     "output_type": "stream",
     "text": [
      "Input directory : ../Datasets/Pokemon/Images/Slowpoke/\n",
      "Output directory : ../Datasets/Pokemon/SquareImages/Slowpoke\n"
     ]
    },
    {
     "name": "stderr",
     "output_type": "stream",
     "text": [
      "Resizing image : 100%|██████████| 210/210 [00:08<00:00, 25.02it/s]\n"
     ]
    },
    {
     "name": "stdout",
     "output_type": "stream",
     "text": [
      "Input directory : ../Datasets/Pokemon/Images/Slowbro/\n",
      "Output directory : ../Datasets/Pokemon/SquareImages/Slowbro\n"
     ]
    },
    {
     "name": "stderr",
     "output_type": "stream",
     "text": [
      "Resizing image : 100%|██████████| 202/202 [00:11<00:00, 17.78it/s]\n"
     ]
    },
    {
     "name": "stdout",
     "output_type": "stream",
     "text": [
      "Input directory : ../Datasets/Pokemon/Images/Magnemite/\n",
      "Output directory : ../Datasets/Pokemon/SquareImages/Magnemite\n"
     ]
    },
    {
     "name": "stderr",
     "output_type": "stream",
     "text": [
      "Resizing image : 100%|██████████| 201/201 [00:11<00:00, 18.18it/s]\n"
     ]
    },
    {
     "name": "stdout",
     "output_type": "stream",
     "text": [
      "Input directory : ../Datasets/Pokemon/Images/Magneton/\n",
      "Output directory : ../Datasets/Pokemon/SquareImages/Magneton\n"
     ]
    },
    {
     "name": "stderr",
     "output_type": "stream",
     "text": [
      "Resizing image : 100%|██████████| 208/208 [00:11<00:00, 18.13it/s]\n"
     ]
    },
    {
     "name": "stdout",
     "output_type": "stream",
     "text": [
      "Input directory : ../Datasets/Pokemon/Images/Farfetch'd/\n",
      "Output directory : ../Datasets/Pokemon/SquareImages/Farfetch'd\n"
     ]
    },
    {
     "name": "stderr",
     "output_type": "stream",
     "text": [
      "Resizing image : 100%|██████████| 201/201 [00:08<00:00, 22.47it/s]\n"
     ]
    },
    {
     "name": "stdout",
     "output_type": "stream",
     "text": [
      "Input directory : ../Datasets/Pokemon/Images/Doduo/\n",
      "Output directory : ../Datasets/Pokemon/SquareImages/Doduo\n"
     ]
    },
    {
     "name": "stderr",
     "output_type": "stream",
     "text": [
      "Resizing image : 100%|██████████| 202/202 [00:08<00:00, 23.51it/s]\n"
     ]
    },
    {
     "name": "stdout",
     "output_type": "stream",
     "text": [
      "Input directory : ../Datasets/Pokemon/Images/Dodrio/\n",
      "Output directory : ../Datasets/Pokemon/SquareImages/Dodrio\n"
     ]
    },
    {
     "name": "stderr",
     "output_type": "stream",
     "text": [
      "Resizing image : 100%|██████████| 202/202 [00:09<00:00, 30.33it/s]\n"
     ]
    },
    {
     "name": "stdout",
     "output_type": "stream",
     "text": [
      "Input directory : ../Datasets/Pokemon/Images/Seel/\n",
      "Output directory : ../Datasets/Pokemon/SquareImages/Seel\n"
     ]
    },
    {
     "name": "stderr",
     "output_type": "stream",
     "text": [
      "Resizing image : 100%|██████████| 204/204 [00:07<00:00, 26.35it/s]\n"
     ]
    },
    {
     "name": "stdout",
     "output_type": "stream",
     "text": [
      "Input directory : ../Datasets/Pokemon/Images/Dewgong/\n",
      "Output directory : ../Datasets/Pokemon/SquareImages/Dewgong\n"
     ]
    },
    {
     "name": "stderr",
     "output_type": "stream",
     "text": [
      "Resizing image : 100%|██████████| 202/202 [00:10<00:00, 18.61it/s]\n"
     ]
    },
    {
     "name": "stdout",
     "output_type": "stream",
     "text": [
      "Input directory : ../Datasets/Pokemon/Images/Grimer/\n",
      "Output directory : ../Datasets/Pokemon/SquareImages/Grimer\n"
     ]
    },
    {
     "name": "stderr",
     "output_type": "stream",
     "text": [
      "Resizing image : 100%|██████████| 207/207 [00:09<00:00, 22.71it/s]\n"
     ]
    },
    {
     "name": "stdout",
     "output_type": "stream",
     "text": [
      "Input directory : ../Datasets/Pokemon/Images/Muk/\n",
      "Output directory : ../Datasets/Pokemon/SquareImages/Muk\n"
     ]
    },
    {
     "name": "stderr",
     "output_type": "stream",
     "text": [
      "Resizing image : 100%|██████████| 205/205 [00:12<00:00, 15.99it/s]\n"
     ]
    },
    {
     "name": "stdout",
     "output_type": "stream",
     "text": [
      "Input directory : ../Datasets/Pokemon/Images/Shellder/\n",
      "Output directory : ../Datasets/Pokemon/SquareImages/Shellder\n"
     ]
    },
    {
     "name": "stderr",
     "output_type": "stream",
     "text": [
      "Resizing image : 100%|██████████| 205/205 [00:10<00:00, 19.91it/s]\n"
     ]
    },
    {
     "name": "stdout",
     "output_type": "stream",
     "text": [
      "Input directory : ../Datasets/Pokemon/Images/Cloyster/\n",
      "Output directory : ../Datasets/Pokemon/SquareImages/Cloyster\n"
     ]
    },
    {
     "name": "stderr",
     "output_type": "stream",
     "text": [
      "Resizing image : 100%|██████████| 204/204 [00:09<00:00, 21.87it/s]\n"
     ]
    },
    {
     "name": "stdout",
     "output_type": "stream",
     "text": [
      "Input directory : ../Datasets/Pokemon/Images/Gastly/\n",
      "Output directory : ../Datasets/Pokemon/SquareImages/Gastly\n"
     ]
    },
    {
     "name": "stderr",
     "output_type": "stream",
     "text": [
      "Resizing image : 100%|██████████| 204/204 [00:08<00:00, 23.90it/s]\n"
     ]
    },
    {
     "name": "stdout",
     "output_type": "stream",
     "text": [
      "Input directory : ../Datasets/Pokemon/Images/Haunter/\n",
      "Output directory : ../Datasets/Pokemon/SquareImages/Haunter\n"
     ]
    },
    {
     "name": "stderr",
     "output_type": "stream",
     "text": [
      "Resizing image : 100%|██████████| 203/203 [00:11<00:00, 19.86it/s]\n"
     ]
    },
    {
     "name": "stdout",
     "output_type": "stream",
     "text": [
      "Input directory : ../Datasets/Pokemon/Images/Gengar/\n",
      "Output directory : ../Datasets/Pokemon/SquareImages/Gengar\n"
     ]
    },
    {
     "name": "stderr",
     "output_type": "stream",
     "text": [
      "Resizing image : 100%|██████████| 207/207 [00:09<00:00, 24.61it/s]\n"
     ]
    },
    {
     "name": "stdout",
     "output_type": "stream",
     "text": [
      "Input directory : ../Datasets/Pokemon/Images/Onix/\n",
      "Output directory : ../Datasets/Pokemon/SquareImages/Onix\n"
     ]
    },
    {
     "name": "stderr",
     "output_type": "stream",
     "text": [
      "Resizing image : 100%|██████████| 203/203 [00:09<00:00, 22.18it/s]\n"
     ]
    },
    {
     "name": "stdout",
     "output_type": "stream",
     "text": [
      "Input directory : ../Datasets/Pokemon/Images/Drowzee/\n",
      "Output directory : ../Datasets/Pokemon/SquareImages/Drowzee\n"
     ]
    },
    {
     "name": "stderr",
     "output_type": "stream",
     "text": [
      "Resizing image : 100%|██████████| 203/203 [00:08<00:00, 22.59it/s]\n"
     ]
    },
    {
     "name": "stdout",
     "output_type": "stream",
     "text": [
      "Input directory : ../Datasets/Pokemon/Images/Hypno/\n",
      "Output directory : ../Datasets/Pokemon/SquareImages/Hypno\n"
     ]
    },
    {
     "name": "stderr",
     "output_type": "stream",
     "text": [
      "Resizing image : 100%|██████████| 203/203 [00:09<00:00, 15.69it/s]\n"
     ]
    },
    {
     "name": "stdout",
     "output_type": "stream",
     "text": [
      "Input directory : ../Datasets/Pokemon/Images/Krabby/\n",
      "Output directory : ../Datasets/Pokemon/SquareImages/Krabby\n"
     ]
    },
    {
     "name": "stderr",
     "output_type": "stream",
     "text": [
      "Resizing image : 100%|██████████| 205/205 [00:09<00:00, 10.28it/s]\n"
     ]
    },
    {
     "name": "stdout",
     "output_type": "stream",
     "text": [
      "Input directory : ../Datasets/Pokemon/Images/Kingler/\n",
      "Output directory : ../Datasets/Pokemon/SquareImages/Kingler\n"
     ]
    },
    {
     "name": "stderr",
     "output_type": "stream",
     "text": [
      "Resizing image : 100%|██████████| 202/202 [00:10<00:00, 18.55it/s]\n"
     ]
    },
    {
     "name": "stdout",
     "output_type": "stream",
     "text": [
      "Input directory : ../Datasets/Pokemon/Images/Voltorb/\n",
      "Output directory : ../Datasets/Pokemon/SquareImages/Voltorb\n"
     ]
    },
    {
     "name": "stderr",
     "output_type": "stream",
     "text": [
      "Resizing image : 100%|██████████| 205/205 [00:08<00:00, 24.26it/s]\n"
     ]
    },
    {
     "name": "stdout",
     "output_type": "stream",
     "text": [
      "Input directory : ../Datasets/Pokemon/Images/Electrode/\n",
      "Output directory : ../Datasets/Pokemon/SquareImages/Electrode\n"
     ]
    },
    {
     "name": "stderr",
     "output_type": "stream",
     "text": [
      "Resizing image : 100%|██████████| 207/207 [00:10<00:00, 19.29it/s]\n"
     ]
    },
    {
     "name": "stdout",
     "output_type": "stream",
     "text": [
      "Input directory : ../Datasets/Pokemon/Images/Exeggcute/\n",
      "Output directory : ../Datasets/Pokemon/SquareImages/Exeggcute\n"
     ]
    },
    {
     "name": "stderr",
     "output_type": "stream",
     "text": [
      "Resizing image : 100%|██████████| 205/205 [00:13<00:00, 15.35it/s]\n"
     ]
    },
    {
     "name": "stdout",
     "output_type": "stream",
     "text": [
      "Input directory : ../Datasets/Pokemon/Images/Exeggutor/\n",
      "Output directory : ../Datasets/Pokemon/SquareImages/Exeggutor\n"
     ]
    },
    {
     "name": "stderr",
     "output_type": "stream",
     "text": [
      "Resizing image : 100%|██████████| 204/204 [00:08<00:00, 23.84it/s]\n"
     ]
    },
    {
     "name": "stdout",
     "output_type": "stream",
     "text": [
      "Input directory : ../Datasets/Pokemon/Images/Cubone/\n",
      "Output directory : ../Datasets/Pokemon/SquareImages/Cubone\n"
     ]
    },
    {
     "name": "stderr",
     "output_type": "stream",
     "text": [
      "Resizing image : 100%|██████████| 205/205 [00:10<00:00, 11.85it/s]\n"
     ]
    },
    {
     "name": "stdout",
     "output_type": "stream",
     "text": [
      "Input directory : ../Datasets/Pokemon/Images/Marowak/\n",
      "Output directory : ../Datasets/Pokemon/SquareImages/Marowak\n"
     ]
    },
    {
     "name": "stderr",
     "output_type": "stream",
     "text": [
      "Resizing image : 100%|██████████| 206/206 [00:08<00:00, 24.80it/s]\n"
     ]
    },
    {
     "name": "stdout",
     "output_type": "stream",
     "text": [
      "Input directory : ../Datasets/Pokemon/Images/Hitmonlee/\n",
      "Output directory : ../Datasets/Pokemon/SquareImages/Hitmonlee\n"
     ]
    },
    {
     "name": "stderr",
     "output_type": "stream",
     "text": [
      "Resizing image : 100%|██████████| 203/203 [00:11<00:00, 20.95it/s]\n"
     ]
    },
    {
     "name": "stdout",
     "output_type": "stream",
     "text": [
      "Input directory : ../Datasets/Pokemon/Images/Hitmonchan/\n",
      "Output directory : ../Datasets/Pokemon/SquareImages/Hitmonchan\n"
     ]
    },
    {
     "name": "stderr",
     "output_type": "stream",
     "text": [
      "Resizing image : 100%|██████████| 204/204 [00:08<00:00, 23.61it/s]\n"
     ]
    },
    {
     "name": "stdout",
     "output_type": "stream",
     "text": [
      "Input directory : ../Datasets/Pokemon/Images/Lickitung/\n",
      "Output directory : ../Datasets/Pokemon/SquareImages/Lickitung\n"
     ]
    },
    {
     "name": "stderr",
     "output_type": "stream",
     "text": [
      "Resizing image : 100%|██████████| 202/202 [00:08<00:00, 23.67it/s]\n"
     ]
    },
    {
     "name": "stdout",
     "output_type": "stream",
     "text": [
      "Input directory : ../Datasets/Pokemon/Images/Koffing/\n",
      "Output directory : ../Datasets/Pokemon/SquareImages/Koffing\n"
     ]
    },
    {
     "name": "stderr",
     "output_type": "stream",
     "text": [
      "Resizing image : 100%|██████████| 202/202 [00:10<00:00, 23.88it/s]\n"
     ]
    },
    {
     "name": "stdout",
     "output_type": "stream",
     "text": [
      "Input directory : ../Datasets/Pokemon/Images/Weezing/\n",
      "Output directory : ../Datasets/Pokemon/SquareImages/Weezing\n"
     ]
    },
    {
     "name": "stderr",
     "output_type": "stream",
     "text": [
      "Resizing image : 100%|██████████| 202/202 [00:09<00:00, 21.83it/s]\n"
     ]
    },
    {
     "name": "stdout",
     "output_type": "stream",
     "text": [
      "Input directory : ../Datasets/Pokemon/Images/Rhyhorn/\n",
      "Output directory : ../Datasets/Pokemon/SquareImages/Rhyhorn\n"
     ]
    },
    {
     "name": "stderr",
     "output_type": "stream",
     "text": [
      "Resizing image : 100%|██████████| 201/201 [00:09<00:00, 22.27it/s]\n"
     ]
    },
    {
     "name": "stdout",
     "output_type": "stream",
     "text": [
      "Input directory : ../Datasets/Pokemon/Images/Rhydon/\n",
      "Output directory : ../Datasets/Pokemon/SquareImages/Rhydon\n"
     ]
    },
    {
     "name": "stderr",
     "output_type": "stream",
     "text": [
      "Resizing image : 100%|██████████| 204/204 [00:12<00:00, 16.26it/s]\n"
     ]
    },
    {
     "name": "stdout",
     "output_type": "stream",
     "text": [
      "Input directory : ../Datasets/Pokemon/Images/Chansey/\n",
      "Output directory : ../Datasets/Pokemon/SquareImages/Chansey\n"
     ]
    },
    {
     "name": "stderr",
     "output_type": "stream",
     "text": [
      "Resizing image : 100%|██████████| 205/205 [00:09<00:00, 21.19it/s]\n"
     ]
    },
    {
     "name": "stdout",
     "output_type": "stream",
     "text": [
      "Input directory : ../Datasets/Pokemon/Images/Tangela/\n",
      "Output directory : ../Datasets/Pokemon/SquareImages/Tangela\n"
     ]
    },
    {
     "name": "stderr",
     "output_type": "stream",
     "text": [
      "Resizing image : 100%|██████████| 202/202 [00:14<00:00, 18.24it/s]\n"
     ]
    },
    {
     "name": "stdout",
     "output_type": "stream",
     "text": [
      "Input directory : ../Datasets/Pokemon/Images/Kangaskhan/\n",
      "Output directory : ../Datasets/Pokemon/SquareImages/Kangaskhan\n"
     ]
    },
    {
     "name": "stderr",
     "output_type": "stream",
     "text": [
      "Resizing image : 100%|██████████| 206/206 [00:13<00:00, 18.04it/s]\n"
     ]
    },
    {
     "name": "stdout",
     "output_type": "stream",
     "text": [
      "Input directory : ../Datasets/Pokemon/Images/Horsea/\n",
      "Output directory : ../Datasets/Pokemon/SquareImages/Horsea\n"
     ]
    },
    {
     "name": "stderr",
     "output_type": "stream",
     "text": [
      "Resizing image : 100%|██████████| 202/202 [00:16<00:00, 14.65it/s]\n"
     ]
    },
    {
     "name": "stdout",
     "output_type": "stream",
     "text": [
      "Input directory : ../Datasets/Pokemon/Images/Seadra/\n",
      "Output directory : ../Datasets/Pokemon/SquareImages/Seadra\n"
     ]
    },
    {
     "name": "stderr",
     "output_type": "stream",
     "text": [
      "Resizing image : 100%|██████████| 200/200 [00:08<00:00, 23.14it/s]\n"
     ]
    },
    {
     "name": "stdout",
     "output_type": "stream",
     "text": [
      "Input directory : ../Datasets/Pokemon/Images/Goldeen/\n",
      "Output directory : ../Datasets/Pokemon/SquareImages/Goldeen\n"
     ]
    },
    {
     "name": "stderr",
     "output_type": "stream",
     "text": [
      "Resizing image : 100%|██████████| 201/201 [00:10<00:00, 18.97it/s]\n"
     ]
    },
    {
     "name": "stdout",
     "output_type": "stream",
     "text": [
      "Input directory : ../Datasets/Pokemon/Images/Seaking/\n",
      "Output directory : ../Datasets/Pokemon/SquareImages/Seaking\n"
     ]
    },
    {
     "name": "stderr",
     "output_type": "stream",
     "text": [
      "Resizing image : 100%|██████████| 200/200 [00:16<00:00, 25.53it/s]\n"
     ]
    },
    {
     "name": "stdout",
     "output_type": "stream",
     "text": [
      "Input directory : ../Datasets/Pokemon/Images/Staryu/\n",
      "Output directory : ../Datasets/Pokemon/SquareImages/Staryu\n"
     ]
    },
    {
     "name": "stderr",
     "output_type": "stream",
     "text": [
      "Resizing image : 100%|██████████| 209/209 [00:09<00:00, 22.06it/s]\n"
     ]
    },
    {
     "name": "stdout",
     "output_type": "stream",
     "text": [
      "Input directory : ../Datasets/Pokemon/Images/Starmie/\n",
      "Output directory : ../Datasets/Pokemon/SquareImages/Starmie\n"
     ]
    },
    {
     "name": "stderr",
     "output_type": "stream",
     "text": [
      "Resizing image : 100%|██████████| 207/207 [00:12<00:00, 12.33it/s]\n"
     ]
    },
    {
     "name": "stdout",
     "output_type": "stream",
     "text": [
      "Input directory : ../Datasets/Pokemon/Images/Mr._Mime/\n",
      "Output directory : ../Datasets/Pokemon/SquareImages/Mr._Mime\n"
     ]
    },
    {
     "name": "stderr",
     "output_type": "stream",
     "text": [
      "Resizing image : 100%|██████████| 203/203 [00:07<00:00, 27.21it/s]\n"
     ]
    },
    {
     "name": "stdout",
     "output_type": "stream",
     "text": [
      "Input directory : ../Datasets/Pokemon/Images/Scyther/\n",
      "Output directory : ../Datasets/Pokemon/SquareImages/Scyther\n"
     ]
    },
    {
     "name": "stderr",
     "output_type": "stream",
     "text": [
      "Resizing image : 100%|██████████| 202/202 [00:11<00:00, 17.58it/s]\n"
     ]
    },
    {
     "name": "stdout",
     "output_type": "stream",
     "text": [
      "Input directory : ../Datasets/Pokemon/Images/Jynx/\n",
      "Output directory : ../Datasets/Pokemon/SquareImages/Jynx\n"
     ]
    },
    {
     "name": "stderr",
     "output_type": "stream",
     "text": [
      "Resizing image : 100%|██████████| 204/204 [00:09<00:00, 20.69it/s]\n"
     ]
    },
    {
     "name": "stdout",
     "output_type": "stream",
     "text": [
      "Input directory : ../Datasets/Pokemon/Images/Electabuzz/\n",
      "Output directory : ../Datasets/Pokemon/SquareImages/Electabuzz\n"
     ]
    },
    {
     "name": "stderr",
     "output_type": "stream",
     "text": [
      "Resizing image : 100%|██████████| 202/202 [00:11<00:00, 21.55it/s]\n"
     ]
    },
    {
     "name": "stdout",
     "output_type": "stream",
     "text": [
      "Input directory : ../Datasets/Pokemon/Images/Magmar/\n",
      "Output directory : ../Datasets/Pokemon/SquareImages/Magmar\n"
     ]
    },
    {
     "name": "stderr",
     "output_type": "stream",
     "text": [
      "Resizing image : 100%|██████████| 200/200 [00:07<00:00, 25.79it/s]\n"
     ]
    },
    {
     "name": "stdout",
     "output_type": "stream",
     "text": [
      "Input directory : ../Datasets/Pokemon/Images/Pinsir/\n",
      "Output directory : ../Datasets/Pokemon/SquareImages/Pinsir\n"
     ]
    },
    {
     "name": "stderr",
     "output_type": "stream",
     "text": [
      "Resizing image : 100%|██████████| 202/202 [00:09<00:00, 22.26it/s]\n"
     ]
    },
    {
     "name": "stdout",
     "output_type": "stream",
     "text": [
      "Input directory : ../Datasets/Pokemon/Images/Tauros/\n",
      "Output directory : ../Datasets/Pokemon/SquareImages/Tauros\n"
     ]
    },
    {
     "name": "stderr",
     "output_type": "stream",
     "text": [
      "Resizing image : 100%|██████████| 204/204 [00:12<00:00, 21.19it/s]\n"
     ]
    },
    {
     "name": "stdout",
     "output_type": "stream",
     "text": [
      "Input directory : ../Datasets/Pokemon/Images/Magikarp/\n",
      "Output directory : ../Datasets/Pokemon/SquareImages/Magikarp\n"
     ]
    },
    {
     "name": "stderr",
     "output_type": "stream",
     "text": [
      "Resizing image : 100%|██████████| 202/202 [00:08<00:00, 22.56it/s]\n"
     ]
    },
    {
     "name": "stdout",
     "output_type": "stream",
     "text": [
      "Input directory : ../Datasets/Pokemon/Images/Gyarados/\n",
      "Output directory : ../Datasets/Pokemon/SquareImages/Gyarados\n"
     ]
    },
    {
     "name": "stderr",
     "output_type": "stream",
     "text": [
      "Resizing image : 100%|██████████| 204/204 [00:10<00:00, 19.50it/s]\n"
     ]
    },
    {
     "name": "stdout",
     "output_type": "stream",
     "text": [
      "Input directory : ../Datasets/Pokemon/Images/Lapras/\n",
      "Output directory : ../Datasets/Pokemon/SquareImages/Lapras\n"
     ]
    },
    {
     "name": "stderr",
     "output_type": "stream",
     "text": [
      "Resizing image : 100%|██████████| 201/201 [00:10<00:00, 19.70it/s]\n"
     ]
    },
    {
     "name": "stdout",
     "output_type": "stream",
     "text": [
      "Input directory : ../Datasets/Pokemon/Images/Ditto/\n",
      "Output directory : ../Datasets/Pokemon/SquareImages/Ditto\n"
     ]
    },
    {
     "name": "stderr",
     "output_type": "stream",
     "text": [
      "Resizing image : 100%|██████████| 205/205 [00:09<00:00, 20.94it/s]\n"
     ]
    },
    {
     "name": "stdout",
     "output_type": "stream",
     "text": [
      "Input directory : ../Datasets/Pokemon/Images/Eevee/\n",
      "Output directory : ../Datasets/Pokemon/SquareImages/Eevee\n"
     ]
    },
    {
     "name": "stderr",
     "output_type": "stream",
     "text": [
      "Resizing image : 100%|██████████| 202/202 [00:09<00:00, 15.77it/s]\n"
     ]
    },
    {
     "name": "stdout",
     "output_type": "stream",
     "text": [
      "Input directory : ../Datasets/Pokemon/Images/Vaporeon/\n",
      "Output directory : ../Datasets/Pokemon/SquareImages/Vaporeon\n"
     ]
    },
    {
     "name": "stderr",
     "output_type": "stream",
     "text": [
      "Resizing image : 100%|██████████| 204/204 [00:15<00:00, 29.48it/s]\n"
     ]
    },
    {
     "name": "stdout",
     "output_type": "stream",
     "text": [
      "Input directory : ../Datasets/Pokemon/Images/Jolteon/\n",
      "Output directory : ../Datasets/Pokemon/SquareImages/Jolteon\n"
     ]
    },
    {
     "name": "stderr",
     "output_type": "stream",
     "text": [
      "Resizing image : 100%|██████████| 204/204 [00:08<00:00, 22.69it/s]\n"
     ]
    },
    {
     "name": "stdout",
     "output_type": "stream",
     "text": [
      "Input directory : ../Datasets/Pokemon/Images/Flareon/\n",
      "Output directory : ../Datasets/Pokemon/SquareImages/Flareon\n"
     ]
    },
    {
     "name": "stderr",
     "output_type": "stream",
     "text": [
      "Resizing image : 100%|██████████| 203/203 [00:15<00:00, 13.36it/s]\n"
     ]
    },
    {
     "name": "stdout",
     "output_type": "stream",
     "text": [
      "Input directory : ../Datasets/Pokemon/Images/Porygon/\n",
      "Output directory : ../Datasets/Pokemon/SquareImages/Porygon\n"
     ]
    },
    {
     "name": "stderr",
     "output_type": "stream",
     "text": [
      "Resizing image : 100%|██████████| 203/203 [00:11<00:00, 24.85it/s]\n"
     ]
    },
    {
     "name": "stdout",
     "output_type": "stream",
     "text": [
      "Input directory : ../Datasets/Pokemon/Images/Omanyte/\n",
      "Output directory : ../Datasets/Pokemon/SquareImages/Omanyte\n"
     ]
    },
    {
     "name": "stderr",
     "output_type": "stream",
     "text": [
      "Resizing image : 100%|██████████| 200/200 [00:09<00:00, 20.50it/s]\n"
     ]
    },
    {
     "name": "stdout",
     "output_type": "stream",
     "text": [
      "Input directory : ../Datasets/Pokemon/Images/Omastar/\n",
      "Output directory : ../Datasets/Pokemon/SquareImages/Omastar\n"
     ]
    },
    {
     "name": "stderr",
     "output_type": "stream",
     "text": [
      "Resizing image : 100%|██████████| 203/203 [00:15<00:00, 20.30it/s]\n"
     ]
    },
    {
     "name": "stdout",
     "output_type": "stream",
     "text": [
      "Input directory : ../Datasets/Pokemon/Images/Kabuto/\n",
      "Output directory : ../Datasets/Pokemon/SquareImages/Kabuto\n"
     ]
    },
    {
     "name": "stderr",
     "output_type": "stream",
     "text": [
      "Resizing image : 100%|██████████| 201/201 [00:18<00:00, 11.12it/s]\n"
     ]
    },
    {
     "name": "stdout",
     "output_type": "stream",
     "text": [
      "Input directory : ../Datasets/Pokemon/Images/Kabutops/\n",
      "Output directory : ../Datasets/Pokemon/SquareImages/Kabutops\n"
     ]
    },
    {
     "name": "stderr",
     "output_type": "stream",
     "text": [
      "Resizing image : 100%|██████████| 202/202 [00:18<00:00, 10.81it/s]\n"
     ]
    },
    {
     "name": "stdout",
     "output_type": "stream",
     "text": [
      "Input directory : ../Datasets/Pokemon/Images/Aerodactyl/\n",
      "Output directory : ../Datasets/Pokemon/SquareImages/Aerodactyl\n"
     ]
    },
    {
     "name": "stderr",
     "output_type": "stream",
     "text": [
      "Resizing image :  17%|█▋        | 34/205 [00:03<00:16, 10.27it/s]/Users/emiliepicardcantin/anaconda3/lib/python3.6/site-packages/PIL/TiffImagePlugin.py:771: UserWarning: Corrupt EXIF data.  Expecting to read 2 bytes but only got 0. \n",
      "  warnings.warn(str(msg))\n",
      "Resizing image : 100%|██████████| 205/205 [00:27<00:00,  7.49it/s]\n"
     ]
    },
    {
     "name": "stdout",
     "output_type": "stream",
     "text": [
      "Input directory : ../Datasets/Pokemon/Images/Snorlax/\n",
      "Output directory : ../Datasets/Pokemon/SquareImages/Snorlax\n"
     ]
    },
    {
     "name": "stderr",
     "output_type": "stream",
     "text": [
      "Resizing image : 100%|██████████| 203/203 [00:16<00:00, 12.30it/s]\n"
     ]
    },
    {
     "name": "stdout",
     "output_type": "stream",
     "text": [
      "Input directory : ../Datasets/Pokemon/Images/Articuno/\n",
      "Output directory : ../Datasets/Pokemon/SquareImages/Articuno\n"
     ]
    },
    {
     "name": "stderr",
     "output_type": "stream",
     "text": [
      "Resizing image : 100%|██████████| 205/205 [00:10<00:00, 20.27it/s]\n"
     ]
    },
    {
     "name": "stdout",
     "output_type": "stream",
     "text": [
      "Input directory : ../Datasets/Pokemon/Images/Zapdos/\n",
      "Output directory : ../Datasets/Pokemon/SquareImages/Zapdos\n"
     ]
    },
    {
     "name": "stderr",
     "output_type": "stream",
     "text": [
      "Resizing image : 100%|██████████| 209/209 [00:13<00:00, 16.01it/s]\n"
     ]
    },
    {
     "name": "stdout",
     "output_type": "stream",
     "text": [
      "Input directory : ../Datasets/Pokemon/Images/Moltres/\n",
      "Output directory : ../Datasets/Pokemon/SquareImages/Moltres\n"
     ]
    },
    {
     "name": "stderr",
     "output_type": "stream",
     "text": [
      "Resizing image : 100%|██████████| 202/202 [00:11<00:00, 17.63it/s]\n"
     ]
    },
    {
     "name": "stdout",
     "output_type": "stream",
     "text": [
      "Input directory : ../Datasets/Pokemon/Images/Dratini/\n",
      "Output directory : ../Datasets/Pokemon/SquareImages/Dratini\n"
     ]
    },
    {
     "name": "stderr",
     "output_type": "stream",
     "text": [
      "Resizing image : 100%|██████████| 202/202 [00:09<00:00, 21.65it/s]\n"
     ]
    },
    {
     "name": "stdout",
     "output_type": "stream",
     "text": [
      "Input directory : ../Datasets/Pokemon/Images/Dragonair/\n",
      "Output directory : ../Datasets/Pokemon/SquareImages/Dragonair\n"
     ]
    },
    {
     "name": "stderr",
     "output_type": "stream",
     "text": [
      "Resizing image : 100%|██████████| 205/205 [00:18<00:00, 11.14it/s]\n"
     ]
    },
    {
     "name": "stdout",
     "output_type": "stream",
     "text": [
      "Input directory : ../Datasets/Pokemon/Images/Dragonite/\n",
      "Output directory : ../Datasets/Pokemon/SquareImages/Dragonite\n"
     ]
    },
    {
     "name": "stderr",
     "output_type": "stream",
     "text": [
      "Resizing image : 100%|██████████| 202/202 [00:17<00:00, 13.48it/s]\n"
     ]
    },
    {
     "name": "stdout",
     "output_type": "stream",
     "text": [
      "Input directory : ../Datasets/Pokemon/Images/Mewtwo/\n",
      "Output directory : ../Datasets/Pokemon/SquareImages/Mewtwo\n"
     ]
    },
    {
     "name": "stderr",
     "output_type": "stream",
     "text": [
      "Resizing image : 100%|██████████| 203/203 [00:23<00:00, 12.77it/s]\n"
     ]
    },
    {
     "name": "stdout",
     "output_type": "stream",
     "text": [
      "Input directory : ../Datasets/Pokemon/Images/Mew/\n",
      "Output directory : ../Datasets/Pokemon/SquareImages/Mew\n"
     ]
    },
    {
     "name": "stderr",
     "output_type": "stream",
     "text": [
      "Resizing image : 100%|██████████| 205/205 [00:18<00:00,  7.34it/s]\n"
     ]
    }
   ],
   "source": [
    "%autoreload 2\n",
    "import data_processing as DP\n",
    "\n",
    "root_image_folder = \"../Datasets/Pokemon/Images/\"\n",
    "output_folder = \"../Datasets/Pokemon/SquareImages/\"\n",
    "for pokemon_name in pokemon_subset[1:]:\n",
    "    directory = image_output_directory+\"/\"+pokemon_name+\"/\"\n",
    "    output_directory = output_folder+pokemon_name\n",
    "\n",
    "    if not os.path.exists(output_directory):\n",
    "        os.makedirs(output_directory)\n",
    "        \n",
    "    print(\"Input directory : \"+str(directory))\n",
    "    print(\"Output directory : \"+str(output_directory))\n",
    "    image_files = [i for i in os.listdir(directory) if i.endswith(\"jpg\") or i.endswith(\"png\") or i.endswith(\"jpeg\")]\n",
    "    time.sleep(0.5)\n",
    "    \n",
    "    num_images = len(image_files)\n",
    "    num_digits = len(str(num_images))\n",
    "    \n",
    "    for i,image_path in enumerate(tqdm(image_files, desc=\"Resizing image : \")):\n",
    "        new_path = output_folder+pokemon_name+\"/\"\n",
    "        new_image = DP.make_square(directory+image_path, max_size=200)\n",
    "        new_image.save(new_path+str(i).zfill(num_digits)+\"_\"+pokemon_name+\".png\", \"PNG\")\n",
    "\n"
   ]
  },
  {
   "cell_type": "markdown",
   "metadata": {},
   "source": [
    "# Augmenting datasets"
   ]
  },
  {
   "cell_type": "code",
   "execution_count": 94,
   "metadata": {},
   "outputs": [
    {
     "name": "stdout",
     "output_type": "stream",
     "text": [
      "../Datasets/Pokemon/SquareImages/Weedle/\n",
      "Done.\n"
     ]
    }
   ],
   "source": [
    "%autoreload 2\n",
    "import data_processing as DP\n",
    "\n",
    "for pokemon_name in pokemon_subset[12:13]:\n",
    "    input_folder = \"../Datasets/Pokemon/SquareImages/\"+pokemon_name+\"/\"\n",
    "    print(input_folder)\n",
    "    output_folder = \"../Datasets/Pokemon/AugmentedImages/\"+pokemon_name+\"/\"\n",
    "\n",
    "    if not os.path.exists(output_folder):\n",
    "        os.makedirs(output_folder)\n",
    "\n",
    "    images = [i for i in os.listdir(input_folder) if i.endswith(\".png\")]\n",
    "    DP.data_augmentation(input_folder, output_folder, pokemon_name, images, 200, repetitions=20)\n",
    "    print(\"Done.\")"
   ]
  },
  {
   "cell_type": "code",
   "execution_count": null,
   "metadata": {},
   "outputs": [],
   "source": []
  }
 ],
 "metadata": {
  "kernelspec": {
   "display_name": "Python 3",
   "language": "python",
   "name": "python3"
  },
  "language_info": {
   "codemirror_mode": {
    "name": "ipython",
    "version": 3
   },
   "file_extension": ".py",
   "mimetype": "text/x-python",
   "name": "python",
   "nbconvert_exporter": "python",
   "pygments_lexer": "ipython3",
   "version": "3.6.5"
  }
 },
 "nbformat": 4,
 "nbformat_minor": 2
}
