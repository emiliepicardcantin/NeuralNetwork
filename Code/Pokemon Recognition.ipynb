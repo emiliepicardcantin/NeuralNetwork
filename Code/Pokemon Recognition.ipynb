{
 "cells": [
  {
   "cell_type": "code",
   "execution_count": 1,
   "metadata": {},
   "outputs": [],
   "source": [
    "# Global imports\n",
    "%load_ext autoreload\n",
    "# import csv\n",
    "import numpy\n",
    "import pandas\n",
    "from tqdm import tqdm\n",
    "import random\n",
    "from collections import Counter\n",
    "import matplotlib.pyplot as plt\n",
    "from IPython.display import HTML, display\n",
    "\n",
    "import sys\n",
    "import os\n",
    "\n",
    "from google_images_download import google_images_download\n",
    "gid = google_images_download.googleimagesdownload()   #class instantiation"
   ]
  },
  {
   "cell_type": "markdown",
   "metadata": {},
   "source": [
    "# Loading stats from CSV file"
   ]
  },
  {
   "cell_type": "code",
   "execution_count": 8,
   "metadata": {},
   "outputs": [
    {
     "name": "stdout",
     "output_type": "stream",
     "text": [
      "['Number' 'Name' 'Type_1' 'Type_2' 'Total' 'HP' 'Attack' 'Defense'\n",
      " 'Sp_Atk' 'Sp_Def' 'Speed' 'Generation' 'isLegendary' 'Color' 'hasGender'\n",
      " 'Pr_Male' 'Egg_Group_1' 'Egg_Group_2' 'hasMegaEvolution' 'Height_m'\n",
      " 'Weight_kg' 'Catch_Rate' 'Body_Style']\n"
     ]
    }
   ],
   "source": [
    "csv_file = \"../Datasets/Pokemon/pokemon_alopez247.csv\"\n",
    "with open(csv_file, 'r') as f:\n",
    "    statistics = pandas.read_csv(f)\n",
    "print(statistics.columns.values)\n",
    "\n",
    "pokemon_names = list(statistics[\"Name\"])\n",
    "cat_to_label = {cat:i for i,cat in enumerate(pokemon_names)}\n",
    "label_to_cat = {i:cat for i,cat in enumerate(pokemon_names)}"
   ]
  },
  {
   "cell_type": "markdown",
   "metadata": {},
   "source": [
    "# Scraping images from Google Images"
   ]
  },
  {
   "cell_type": "code",
   "execution_count": 28,
   "metadata": {},
   "outputs": [],
   "source": [
    "num_images_per_pokemon = 20\n",
    "offset = 0\n",
    "image_output_directory = \"../Datasets/Pokemon/Images\"\n",
    "\n",
    "pokemon_subset = list(statistics[statistics[\"Generation\"]==1][\"Name\"])\n",
    "print(\"Pokemons : \"+str(pokemon_subset))"
   ]
  },
  {
   "cell_type": "code",
   "execution_count": 33,
   "metadata": {},
   "outputs": [
    {
     "name": "stderr",
     "output_type": "stream",
     "text": [
      "Searching for Bulbasaur: 100%|██████████| 1/1 [00:24<00:00, 24.38s/it]\n"
     ]
    }
   ],
   "source": [
    "tqdm_bar = tqdm(pokemon_subset)\n",
    "for pokemon_name in tqdm_bar:\n",
    "    tqdm_bar.set_description(\"Searching for \" + pokemon_name)\n",
    "    \n",
    "    sys.stdout = open(os.devnull, \"w\")\n",
    "\n",
    "    gid.download({\n",
    "        \"keywords\":pokemon_name,\n",
    "        \"limit\":40,\n",
    "        \"type\": \"photo\",\n",
    "        \"output_directory\":image_output_directory,\n",
    "        \"format\":\"jpg\",\n",
    "        \"offset\":offset,\n",
    "        \"no_numbering\":True\n",
    "    })\n",
    "\n",
    "    sys.stdout = sys.__stdout__"
   ]
  },
  {
   "cell_type": "markdown",
   "metadata": {},
   "source": [
    "# Preparing datasets"
   ]
  },
  {
   "cell_type": "code",
   "execution_count": 34,
   "metadata": {},
   "outputs": [],
   "source": [
    "%autoreload 2\n",
    "import data_processing as DP\n",
    "\n",
    "training_images = []\n",
    "training_labels = []\n",
    "testing_images = []\n",
    "testing_labels = []\n",
    "\n",
    "for pokemon in pokemon_subset:\n",
    "    directory = image_output_directory + \"/\" + pokemon + \"/\"\n",
    "    files = os.listdir(directory)\n",
    "    random.shuffle(files)\n",
    "    \n",
    "    num_files = len(files)\n",
    "    num_training_files = int(numpy.floor(num_files * 0.9))\n",
    "    training_files = files[:num_training_files]\n",
    "    testing_files = files[num_training_files:]\n",
    "    \n",
    "    training_images += [os.path.abspath(directory+f) for f in training_files]\n",
    "    training_labels += [cat_to_label[pokemon] for f in training_files]\n",
    "    \n",
    "    testing_images += [os.path.abspath(directory+f) for f in testing_files]\n",
    "    testing_labels += [cat_to_label[pokemon] for f in testing_files]\n",
    "    \n",
    "print(\"Number of training files in total : \"+str(len(training_images)))\n",
    "print(\"Number of testing files in total : \"+str(len(testing_images)))"
   ]
  },
  {
   "cell_type": "code",
   "execution_count": 35,
   "metadata": {},
   "outputs": [
    {
     "name": "stderr",
     "output_type": "stream",
     "text": [
      "Image to vector :   4%|▎         | 380/10205 [00:06<02:25, 67.59it/s] /Users/emiliepicardcantin/anaconda3/lib/python3.6/site-packages/PIL/Image.py:918: UserWarning: Palette images with Transparency   expressed in bytes should be converted to RGBA images\n",
      "  'to RGBA images')\n",
      "Image to vector : 100%|██████████| 10205/10205 [02:30<00:00, 67.62it/s]\n",
      "Image to vector :  16%|█▋        | 198/1200 [00:03<00:16, 59.95it/s]/Users/emiliepicardcantin/anaconda3/lib/python3.6/site-packages/PIL/TiffImagePlugin.py:756: UserWarning: Corrupt EXIF data.  Expecting to read 4 bytes but only got 0. \n",
      "  warnings.warn(str(msg))\n",
      "Image to vector : 100%|██████████| 1200/1200 [00:18<00:00, 63.70it/s]\n"
     ]
    }
   ],
   "source": [
    "%autoreload 2\n",
    "DP.write_image_vectors_to_file(training_images, 32, training_labels, \"../Datasets/Pokemon/train.npy\")\n",
    "DP.write_image_vectors_to_file(testing_images,  32, testing_labels, \"../Datasets/Pokemon/test.npy\")"
   ]
  },
  {
   "cell_type": "markdown",
   "metadata": {},
   "source": [
    "# Loading vectors and creating training and testing sets"
   ]
  },
  {
   "cell_type": "code",
   "execution_count": 2,
   "metadata": {},
   "outputs": [
    {
     "name": "stdout",
     "output_type": "stream",
     "text": [
      "Train : (1025, 10142)\n",
      "Test : (1025, 1191)\n"
     ]
    }
   ],
   "source": [
    "# We only keep classes 0,1,2,3\n",
    "max_class = 160\n",
    "\n",
    "training_examples = numpy.load(\"../Datasets/Pokemon/train.npy\")\n",
    "training_examples = training_examples[:, training_examples[0,:] <= max_class]\n",
    "print(\"Train : \"+str(training_examples.shape))\n",
    "\n",
    "testing_examples = numpy.load(\"../Datasets/Pokemon/test.npy\")\n",
    "testing_examples = testing_examples[:, testing_examples[0,:] <= max_class]\n",
    "print(\"Test : \"+str(testing_examples.shape))"
   ]
  },
  {
   "cell_type": "code",
   "execution_count": 3,
   "metadata": {},
   "outputs": [
    {
     "name": "stdout",
     "output_type": "stream",
     "text": [
      "Train : \n",
      "\tX_train : (1024, 10142)\n",
      "\tY_train : (1, 10142)\n",
      "\tCounter({13: 72, 93: 72, 130: 72, 134: 72, 0: 71, 24: 71, 66: 71, 100: 71, 118: 71, 120: 71, 136: 71, 2: 70, 6: 70, 16: 70, 18: 70, 22: 70, 51: 70, 52: 70, 69: 70, 70: 70, 73: 70, 74: 70, 75: 70, 96: 70, 113: 70, 119: 70, 129: 70, 132: 70, 142: 70, 148: 70, 1: 69, 5: 69, 14: 69, 32: 69, 33: 69, 36: 69, 39: 69, 45: 69, 53: 69, 56: 69, 58: 69, 72: 69, 78: 69, 79: 69, 87: 69, 102: 69, 103: 69, 104: 69, 106: 69, 117: 69, 122: 69, 124: 69, 126: 69, 149: 69, 150: 69, 10: 68, 17: 68, 19: 68, 20: 68, 26: 68, 37: 68, 43: 68, 46: 68, 48: 68, 50: 68, 61: 68, 67: 68, 77: 68, 82: 68, 89: 68, 92: 68, 107: 68, 108: 68, 110: 68, 112: 68, 114: 68, 115: 68, 116: 68, 125: 68, 127: 68, 137: 68, 146: 68, 12: 67, 21: 67, 25: 67, 27: 67, 28: 67, 31: 67, 42: 67, 54: 67, 65: 67, 84: 67, 88: 67, 105: 67, 128: 67, 135: 67, 139: 67, 143: 67, 147: 67, 7: 66, 8: 66, 29: 66, 38: 66, 40: 66, 57: 66, 59: 66, 60: 66, 71: 66, 80: 66, 97: 66, 109: 66, 111: 66, 121: 66, 123: 66, 140: 66, 145: 66, 15: 65, 30: 65, 41: 65, 44: 65, 47: 65, 55: 65, 76: 65, 81: 65, 83: 65, 85: 65, 91: 65, 94: 65, 95: 65, 99: 65, 138: 65, 144: 65, 4: 64, 63: 64, 98: 64, 101: 64, 133: 64, 3: 63, 11: 63, 23: 63, 35: 63, 86: 63, 9: 62, 34: 62, 64: 62, 90: 62, 141: 62, 62: 60, 49: 54, 68: 54, 131: 52})\n",
      "Test : \n",
      "\tX_test : (1024, 1191)\n",
      "\tY_test : (1, 1191)\n",
      "\tCounter({13: 9, 0: 8, 1: 8, 2: 8, 3: 8, 4: 8, 5: 8, 6: 8, 7: 8, 8: 8, 10: 8, 11: 8, 12: 8, 14: 8, 15: 8, 16: 8, 17: 8, 18: 8, 19: 8, 20: 8, 21: 8, 22: 8, 23: 8, 24: 8, 25: 8, 26: 8, 27: 8, 28: 8, 29: 8, 30: 8, 31: 8, 32: 8, 33: 8, 34: 8, 35: 8, 37: 8, 38: 8, 39: 8, 40: 8, 41: 8, 42: 8, 43: 8, 44: 8, 45: 8, 46: 8, 47: 8, 48: 8, 50: 8, 51: 8, 53: 8, 54: 8, 55: 8, 56: 8, 57: 8, 58: 8, 59: 8, 60: 8, 61: 8, 63: 8, 65: 8, 66: 8, 67: 8, 69: 8, 70: 8, 71: 8, 72: 8, 73: 8, 74: 8, 75: 8, 76: 8, 77: 8, 79: 8, 80: 8, 81: 8, 82: 8, 83: 8, 84: 8, 85: 8, 87: 8, 88: 8, 89: 8, 91: 8, 92: 8, 93: 8, 94: 8, 96: 8, 97: 8, 98: 8, 99: 8, 100: 8, 101: 8, 102: 8, 103: 8, 105: 8, 106: 8, 107: 8, 108: 8, 109: 8, 110: 8, 111: 8, 113: 8, 114: 8, 115: 8, 116: 8, 117: 8, 118: 8, 119: 8, 120: 8, 121: 8, 122: 8, 123: 8, 124: 8, 125: 8, 126: 8, 127: 8, 128: 8, 129: 8, 130: 8, 132: 8, 133: 8, 134: 8, 135: 8, 136: 8, 137: 8, 138: 8, 139: 8, 140: 8, 141: 8, 143: 8, 144: 8, 146: 8, 147: 8, 148: 8, 149: 8, 150: 8, 9: 7, 36: 7, 49: 7, 52: 7, 62: 7, 64: 7, 68: 7, 78: 7, 86: 7, 95: 7, 104: 7, 112: 7, 142: 7, 145: 7, 90: 6, 131: 6})\n",
      "One hot : (151, 10142)\n"
     ]
    }
   ],
   "source": [
    "# We normalize the data.\n",
    "X_train = training_examples[1:,:] / 255 \n",
    "Y_train = training_examples[:1, :].astype(int)\n",
    "print(\"Train : \")\n",
    "print(\"\\tX_train : \"+str(X_train.shape))\n",
    "print(\"\\tY_train : \"+str(Y_train.shape))\n",
    "print(\"\\t\"+str(Counter(Y_train[0])))\n",
    "\n",
    "X_test = testing_examples[1:,:] / 255 \n",
    "Y_test = testing_examples[:1, :].astype(int)\n",
    "print(\"Test : \")\n",
    "print(\"\\tX_test : \"+str(X_test.shape))\n",
    "print(\"\\tY_test : \"+str(Y_test.shape))\n",
    "print(\"\\t\"+str(Counter(Y_test[0])))\n",
    "\n",
    "%autoreload 2\n",
    "import classification as CL\n",
    "\n",
    "num_classes = int(numpy.max(Y_train[0])) + 1\n",
    "train_one_hot = CL.one_hot_matrix(Y_train[0], num_classes)\n",
    "print(\"One hot : \"+str(train_one_hot.shape))"
   ]
  },
  {
   "cell_type": "markdown",
   "metadata": {},
   "source": [
    "# Training model"
   ]
  },
  {
   "cell_type": "code",
   "execution_count": 59,
   "metadata": {},
   "outputs": [
    {
     "name": "stdout",
     "output_type": "stream",
     "text": [
      "Cost after iteration 1: 5.095894\n",
      "Cost after iteration 1001: 4.516653\n",
      "Cost after all iterations : 3.9872819865674987\n",
      "\n"
     ]
    }
   ],
   "source": [
    "%autoreload 2\n",
    "import classification as CL\n",
    "\n",
    "num_features = X_train.shape[0]\n",
    "num_examples = X_train.shape[1]\n",
    "num_classes = train_one_hot.shape[0]\n",
    "\n",
    "# Hyperparameters :\n",
    "n_l = [num_features, 25, 25, num_classes]\n",
    "\n",
    "# Training model with adam optimization\n",
    "parameters, costs = CL.nn_model(\n",
    "    X_train, train_one_hot, n_l,\n",
    "    initialization=\"xavier\", opt_fnct=\"adam\", \n",
    "    learning_rate=0.0001, num_iterations=2000, print_cost=True\n",
    ")"
   ]
  },
  {
   "cell_type": "code",
   "execution_count": 73,
   "metadata": {},
   "outputs": [
    {
     "name": "stdout",
     "output_type": "stream",
     "text": [
      "Continuing from previous parameters.\n",
      "Cost after iteration 1: 0.826525\n",
      "Cost after iteration 1001: 0.809463\n",
      "Cost after iteration 2001: 0.788737\n",
      "Cost after iteration 3001: 0.769467\n",
      "Cost after iteration 4001: 0.754439\n",
      "Cost after all iterations : 0.7339050157041418\n",
      "\n"
     ]
    }
   ],
   "source": [
    "parameters, costs = CL.nn_model(\n",
    "    X_train, train_one_hot, n_l,\n",
    "    previous_parameters=parameters,\n",
    "    initialization=\"xavier\", opt_fnct=\"adam\", \n",
    "    learning_rate=0.0001, num_iterations=5000, print_cost=True\n",
    ")"
   ]
  },
  {
   "cell_type": "markdown",
   "metadata": {},
   "source": [
    "# Evaluating model"
   ]
  },
  {
   "cell_type": "markdown",
   "metadata": {},
   "source": [
    "## On training set"
   ]
  },
  {
   "cell_type": "code",
   "execution_count": 77,
   "metadata": {},
   "outputs": [
    {
     "data": {
      "image/png": "[encoded data removed]",
      "text/plain": [
       "<Figure size 1440x288 with 1 Axes>"
      ]
     },
     "metadata": {},
     "output_type": "display_data"
    },
    {
     "data": {
      "text/html": [
       "<table border=\"1\" class=\"dataframe\">\n",
       "  <thead>\n",
       "    <tr style=\"text-align: right;\">\n",
       "      <th></th>\n",
       "      <th>positive</th>\n",
       "      <th>negative</th>\n",
       "    </tr>\n",
       "  </thead>\n",
       "  <tbody>\n",
       "    <tr>\n",
       "      <th>labels</th>\n",
       "      <td>65</td>\n",
       "      <td>10077</td>\n",
       "    </tr>\n",
       "    <tr>\n",
       "      <th>predictions</th>\n",
       "      <td>63</td>\n",
       "      <td>10079</td>\n",
       "    </tr>\n",
       "    <tr>\n",
       "      <th>true_predictions</th>\n",
       "      <td>51</td>\n",
       "      <td>10065</td>\n",
       "    </tr>\n",
       "    <tr>\n",
       "      <th>false_predictions</th>\n",
       "      <td>12</td>\n",
       "      <td>14</td>\n",
       "    </tr>\n",
       "  </tbody>\n",
       "</table>"
      ],
      "text/plain": [
       "<IPython.core.display.HTML object>"
      ]
     },
     "metadata": {},
     "output_type": "display_data"
    },
    {
     "data": {
      "text/html": [
       "<table border=\"1\" class=\"dataframe\">\n",
       "  <thead>\n",
       "    <tr style=\"text-align: right;\">\n",
       "      <th></th>\n",
       "      <th>Global</th>\n",
       "    </tr>\n",
       "  </thead>\n",
       "  <tbody>\n",
       "    <tr>\n",
       "      <th>precision</th>\n",
       "      <td>0.809524</td>\n",
       "    </tr>\n",
       "    <tr>\n",
       "      <th>recall</th>\n",
       "      <td>0.784615</td>\n",
       "    </tr>\n",
       "    <tr>\n",
       "      <th>f1_score</th>\n",
       "      <td>0.796875</td>\n",
       "    </tr>\n",
       "  </tbody>\n",
       "</table>"
      ],
      "text/plain": [
       "<IPython.core.display.HTML object>"
      ]
     },
     "metadata": {},
     "output_type": "display_data"
    },
    {
     "name": "stdout",
     "output_type": "stream",
     "text": [
      "Label : Pidgey\n"
     ]
    }
   ],
   "source": [
    "%autoreload 2\n",
    "import classification as CL\n",
    "\n",
    "predictions, A_L = CL.predict(parameters[\"parameters\"], X_train, len(n_l)-1, last_act_fnct=\"softmax\") * 1\n",
    "score_details,f1_details = CL.compute_f1_score_multi_class(predictions, Y_train[0], num_classes)\n",
    "\n",
    "num_images_per_label = Counter(Y_train[0])\n",
    "\n",
    "y = [details[\"f1_score\"] for details in f1_details]\n",
    "y_labels = [i for i in range(len(f1_details))]\n",
    "tick_labels = [label_to_cat[i] for i in y_labels]\n",
    "\n",
    "num_data_to_keep = 60\n",
    "offset_data = 0\n",
    "sort_order = numpy.argsort(y)\n",
    "selection = range(offset_data, offset_data+num_data_to_keep)\n",
    "y = numpy.array(y)[sort_order][selection]\n",
    "y_labels = numpy.array(y_labels)[sort_order][selection]\n",
    "tick_labels = numpy.array(tick_labels)[sort_order][selection]\n",
    "x = range(num_data_to_keep)\n",
    "\n",
    "fig, ax = plt.subplots() \n",
    "fig.set_figwidth(20)\n",
    "ax.bar(x,y, width=0.6)\n",
    "ax.set_xticks(x)\n",
    "ax.set_xticklabels(labels=tick_labels, rotation=90)\n",
    "\n",
    "# for i in range(num_data_to_keep):\n",
    "# #     print(\"i = \"+str(i)+\", label = \"+str(y_labels[i])+\", number of images = \"+str(num_images_per_label[y_labels[i]]))\n",
    "#     plt.text(x = x[i]-0.2 , y = y[i]+0.01, s = num_images_per_label[y_labels[i]], size = 16)\n",
    "\n",
    "plt.show()\n",
    "\n",
    "df = pandas.DataFrame.from_dict(score_details[15]).reindex([\"labels\", \"predictions\", \"true_predictions\", \"false_predictions\"])\n",
    "display(HTML(df.to_html()))\n",
    "\n",
    "df2 = pandas.DataFrame.from_dict(f1_details[15], orient='index', columns=[\"Global\"])\n",
    "display(HTML(df2.to_html()))\n",
    "\n",
    "print(\"Label : \"+str(label_to_cat[15]))"
   ]
  },
  {
   "cell_type": "markdown",
   "metadata": {},
   "source": [
    "## On testing set"
   ]
  },
  {
   "cell_type": "code",
   "execution_count": 23,
   "metadata": {},
   "outputs": [
    {
     "name": "stdout",
     "output_type": "stream",
     "text": [
      "{'precision': 0.0, 'recall': 0.0, 'f1_score': 0.0}\n"
     ]
    },
    {
     "data": {
      "text/html": [
       "<table border=\"1\" class=\"dataframe\">\n",
       "  <thead>\n",
       "    <tr style=\"text-align: right;\">\n",
       "      <th></th>\n",
       "      <th>positive</th>\n",
       "      <th>negative</th>\n",
       "    </tr>\n",
       "  </thead>\n",
       "  <tbody>\n",
       "    <tr>\n",
       "      <th>labels</th>\n",
       "      <td>5</td>\n",
       "      <td>604</td>\n",
       "    </tr>\n",
       "    <tr>\n",
       "      <th>predictions</th>\n",
       "      <td>3</td>\n",
       "      <td>606</td>\n",
       "    </tr>\n",
       "    <tr>\n",
       "      <th>true_predictions</th>\n",
       "      <td>0</td>\n",
       "      <td>601</td>\n",
       "    </tr>\n",
       "    <tr>\n",
       "      <th>false_predictions</th>\n",
       "      <td>3</td>\n",
       "      <td>5</td>\n",
       "    </tr>\n",
       "  </tbody>\n",
       "</table>"
      ],
      "text/plain": [
       "<IPython.core.display.HTML object>"
      ]
     },
     "metadata": {},
     "output_type": "display_data"
    },
    {
     "data": {
      "image/png": "[encoded data removed]",
      "text/plain": [
       "<Figure size 432x288 with 1 Axes>"
      ]
     },
     "metadata": {},
     "output_type": "display_data"
    }
   ],
   "source": [
    "%autoreload 2\n",
    "import classification as CL\n",
    "\n",
    "predictions, A_L = CL.predict(parameters, X_test, len(n_l)-1, last_act_fnct=\"softmax\")\n",
    "\n",
    "score_details,f1_details = CL.compute_f1_score_multi_class(predictions, Y_test[0], num_classes)\n",
    "\n",
    "y = [details[\"f1_score\"] for details in f1_details]\n",
    "x = [i for i in range(len(f1_details))]\n",
    "\n",
    "plt.bar(x,y)\n",
    "\n",
    "i=0\n",
    "print(f1_details[i])\n",
    "df = pandas.DataFrame.from_dict(score_details[i]).reindex([\"labels\", \"predictions\", \"true_predictions\", \"false_predictions\"])\n",
    "display(HTML(df.to_html()))\n",
    "\n",
    "# df2 = pandas.DataFrame.from_dict(f1_score, orient='index', columns=[\"Global\"])\n",
    "# display(HTML(df2.to_html()))"
   ]
  },
  {
   "cell_type": "code",
   "execution_count": null,
   "metadata": {},
   "outputs": [],
   "source": []
  }
 ],
 "metadata": {
  "kernelspec": {
   "display_name": "Python 3",
   "language": "python",
   "name": "python3"
  },
  "language_info": {
   "codemirror_mode": {
    "name": "ipython",
    "version": 3
   },
   "file_extension": ".py",
   "mimetype": "text/x-python",
   "name": "python",
   "nbconvert_exporter": "python",
   "pygments_lexer": "ipython3",
   "version": "3.6.5"
  }
 },
 "nbformat": 4,
 "nbformat_minor": 2
}
