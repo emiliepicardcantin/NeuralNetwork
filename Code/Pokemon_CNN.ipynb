{
 "cells": [
  {
   "cell_type": "markdown",
   "metadata": {},
   "source": [
    "# Imports"
   ]
  },
  {
   "cell_type": "code",
   "execution_count": 15,
   "metadata": {},
   "outputs": [
    {
     "name": "stdout",
     "output_type": "stream",
     "text": [
      "The autoreload extension is already loaded. To reload it, use:\n",
      "  %reload_ext autoreload\n"
     ]
    }
   ],
   "source": [
    "%load_ext autoreload\n",
    "\n",
    "import pandas\n",
    "import numpy\n",
    "import os\n",
    "import random\n",
    "\n",
    "import matplotlib.pyplot as plt\n",
    "%matplotlib inline\n",
    "\n",
    "image_output_directory = os.path.abspath(\"../Datasets/Pokemon/SquareImages\")"
   ]
  },
  {
   "cell_type": "markdown",
   "metadata": {},
   "source": [
    "# Loading stats from CSV file"
   ]
  },
  {
   "cell_type": "code",
   "execution_count": 13,
   "metadata": {},
   "outputs": [
    {
     "name": "stdout",
     "output_type": "stream",
     "text": [
      "Pokemons : 151\n"
     ]
    }
   ],
   "source": [
    "csv_file = \"../Datasets/Pokemon/pokemon_alopez247.csv\"\n",
    "with open(csv_file, 'r') as f:\n",
    "    statistics = pandas.read_csv(f)\n",
    "# print(statistics.columns.values)\n",
    "\n",
    "pokemon_names = list(statistics[\"Name\"])\n",
    "cat_to_label = {cat:i for i,cat in enumerate(pokemon_names)}\n",
    "label_to_cat = {i:cat for i,cat in enumerate(pokemon_names)}\n",
    "\n",
    "pokemon_subset = list(statistics[statistics[\"Generation\"]==1][\"Name\"])\n",
    "print(\"Pokemons : \"+str(len(pokemon_subset)))"
   ]
  },
  {
   "cell_type": "markdown",
   "metadata": {},
   "source": [
    "# Preparing the dataset"
   ]
  },
  {
   "cell_type": "code",
   "execution_count": 16,
   "metadata": {},
   "outputs": [
    {
     "name": "stdout",
     "output_type": "stream",
     "text": [
      "Number of training files in total : 27543\n",
      "Number of testing files in total : 3159\n"
     ]
    }
   ],
   "source": [
    "training_images = []\n",
    "training_labels = []\n",
    "testing_images = []\n",
    "testing_labels = []\n",
    "\n",
    "for pokemon in pokemon_subset:\n",
    "    directory = image_output_directory + \"/\" + pokemon + \"/\"\n",
    "    files = [f for f in os.listdir(directory) if f.endswith(\"jpg\") or f.endswith(\"png\")]\n",
    "    random.shuffle(files)\n",
    "    \n",
    "    num_files = len(files)\n",
    "    num_training_files = int(numpy.floor(num_files * 0.9))\n",
    "    training_files = files[:num_training_files]\n",
    "    testing_files = files[num_training_files:]\n",
    "    \n",
    "    training_images += [os.path.abspath(directory+f) for f in training_files]\n",
    "    training_labels += [cat_to_label[pokemon] for f in training_files]\n",
    "    \n",
    "    testing_images += [os.path.abspath(directory+f) for f in testing_files]\n",
    "    testing_labels += [cat_to_label[pokemon] for f in testing_files]\n",
    "\n",
    "    \n",
    "print(\"Number of training files in total : \"+str(len(training_images)))\n",
    "print(\"Number of testing files in total : \"+str(len(testing_images)))"
   ]
  },
  {
   "cell_type": "code",
   "execution_count": 37,
   "metadata": {},
   "outputs": [],
   "source": [
    "%autoreload 2\n",
    "import data_processing as DP\n",
    "\n",
    "# Shuffling train images\n",
    "perm = numpy.random.permutation(len(training_images))\n",
    "shuffled_train_images = numpy.array(training_images)[perm]\n",
    "shuffled_train_labels = numpy.array(training_labels)[perm]\n",
    "shuffled_train_categories = [label_to_cat[l] for l in shuffled_train_labels]\n",
    "\n",
    "perm = numpy.random.permutation(len(testing_images))\n",
    "shuffled_test_images = numpy.array(testing_images)[perm]\n",
    "shuffled_test_labels = numpy.array(testing_labels)[perm]\n",
    "shuffled_test_categories = [label_to_cat[l] for l in shuffled_test_labels]\n",
    "\n",
    "train_examples = DP.get_image_tensors(\n",
    "    shuffled_train_images, shuffled_train_labels, shuffled_train_categories, 32, \n",
    "    \"../Datasets/Pokemon/train_tensors.pkl\", image_output_directory\n",
    "    )\n",
    "\n",
    "test_examples = DP.get_image_tensors(\n",
    "    shuffled_test_images, shuffled_test_labels, shuffled_test_categories, 32,\n",
    "    \"../Datasets/Pokemon/test_tensors.pkl\", image_output_directory\n",
    "    )"
   ]
  },
  {
   "cell_type": "markdown",
   "metadata": {},
   "source": [
    "# Loading examples from file"
   ]
  },
  {
   "cell_type": "code",
   "execution_count": 68,
   "metadata": {},
   "outputs": [
    {
     "name": "stdout",
     "output_type": "stream",
     "text": [
      "X_train : (2749, 32, 32, 3)\n",
      "Y_train : (2749,)\n",
      "X_test : (315, 32, 32, 3)\n",
      "Y_test : (315,)\n"
     ]
    }
   ],
   "source": [
    "%autoreload 2\n",
    "import classification as CL\n",
    "\n",
    "max_class = 15\n",
    "\n",
    "training_examples = pandas.read_pickle(\"../Datasets/Pokemon/train_tensors.pkl\")\n",
    "train_selection = training_examples[\"Labels\"] < max_class\n",
    "\n",
    "testing_examples = pandas.read_pickle(\"../Datasets/Pokemon/test_tensors.pkl\")\n",
    "test_selection = testing_examples[\"Labels\"] < max_class\n",
    "\n",
    "X_train = training_examples[\"X\"][train_selection]\n",
    "Y_train = training_examples[\"Labels\"][train_selection]\n",
    "print(\"X_train : \" +str(X_train.shape))\n",
    "print(\"Y_train : \" +str(Y_train.shape))\n",
    "\n",
    "X_test = testing_examples[\"X\"][test_selection]\n",
    "Y_test = testing_examples[\"Labels\"][test_selection]\n",
    "print(\"X_test : \" +str(X_test.shape))\n",
    "print(\"Y_test : \" +str(Y_test.shape))\n",
    "\n",
    "# We normalize the data.\n",
    "X_train = X_train / 255 \n",
    "X_test = X_test / 255 \n",
    "# X_train, X_test = CL.normalizing_features(X_train, X_test)"
   ]
  },
  {
   "cell_type": "markdown",
   "metadata": {},
   "source": [
    "## One hot matrix from training labels"
   ]
  },
  {
   "cell_type": "code",
   "execution_count": 69,
   "metadata": {},
   "outputs": [
    {
     "name": "stdout",
     "output_type": "stream",
     "text": [
      "Train One hot : (2749, 15)\n",
      "Test One hot : (315, 15)\n"
     ]
    }
   ],
   "source": [
    "%autoreload 2\n",
    "import classification as CL\n",
    "\n",
    "# We convert labels into one-hot matrix\n",
    "num_classes = int(numpy.max(Y_train)) + 1\n",
    "Y_train_oh = numpy.transpose(CL.one_hot_matrix(Y_train, num_classes))\n",
    "Y_test_oh = numpy.transpose(CL.one_hot_matrix(Y_test, num_classes))\n",
    "print(\"Train One hot : \"+str(Y_train_oh.shape))\n",
    "print(\"Test One hot : \"+str(Y_test_oh.shape))"
   ]
  },
  {
   "cell_type": "markdown",
   "metadata": {},
   "source": [
    "# Training a Convolutional Neural Network\n",
    "Using Tensorflow"
   ]
  },
  {
   "cell_type": "code",
   "execution_count": 78,
   "metadata": {},
   "outputs": [
    {
     "name": "stdout",
     "output_type": "stream",
     "text": [
      "Cost after epoch 0: 2.810276\n",
      "Cost after epoch 5: 2.679003\n",
      "Cost after epoch 10: 2.422686\n",
      "Cost after epoch 15: 2.297917\n",
      "Cost after epoch 20: 2.184551\n",
      "Cost after epoch 25: 2.097274\n",
      "Cost after epoch 30: 2.039150\n",
      "Cost after epoch 35: 1.980692\n",
      "Cost after epoch 40: 1.946479\n",
      "Cost after epoch 45: 1.917119\n",
      "Cost after epoch 50: 1.887437\n",
      "Cost after epoch 55: 1.867977\n",
      "Cost after epoch 60: 1.844508\n",
      "Cost after epoch 65: 1.825200\n",
      "Cost after epoch 70: 1.808234\n",
      "Cost after epoch 75: 1.794039\n",
      "Cost after epoch 80: 1.775900\n",
      "Cost after epoch 85: 1.766953\n",
      "Cost after epoch 90: 1.750752\n",
      "Cost after epoch 95: 1.734634\n",
      "Cost after epoch 100: 1.726361\n",
      "Cost after epoch 105: 1.714097\n",
      "Cost after epoch 110: 1.705127\n",
      "Cost after epoch 115: 1.691936\n",
      "Cost after epoch 120: 1.686222\n",
      "Cost after epoch 125: 1.674466\n",
      "Cost after epoch 130: 1.666976\n",
      "Cost after epoch 135: 1.664380\n",
      "Cost after epoch 140: 1.643997\n",
      "Cost after epoch 145: 1.641967\n",
      "Cost after epoch 150: 1.625413\n",
      "Cost after epoch 155: 1.626533\n",
      "Cost after epoch 160: 1.616020\n",
      "Cost after epoch 165: 1.606193\n",
      "Cost after epoch 170: 1.600149\n",
      "Cost after epoch 175: 1.592781\n",
      "Cost after epoch 180: 1.589313\n",
      "Cost after epoch 185: 1.587505\n",
      "Cost after epoch 190: 1.583226\n",
      "Cost after epoch 195: 1.576739\n"
     ]
    }
   ],
   "source": [
    "%autoreload 2\n",
    "import cnn_classification as CNNC\n",
    "\n",
    "rate = 0.001\n",
    "\n",
    "train_acc, test_acc, parameters, costs = CNNC.model(\n",
    "    X_train, Y_train_oh, X_test, Y_test_oh,\n",
    "    learning_rate=rate, num_epochs=200\n",
    ")"
   ]
  },
  {
   "cell_type": "code",
   "execution_count": 75,
   "metadata": {},
   "outputs": [
    {
     "name": "stdout",
     "output_type": "stream",
     "text": [
      "Train Accuracy: 0.079112664\n",
      "Test Accuracy: 0.06837607\n"
     ]
    },
    {
     "data": {
      "image/png": "[encoded data removed]",
      "text/plain": [
       "<Figure size 432x288 with 1 Axes>"
      ]
     },
     "metadata": {},
     "output_type": "display_data"
    }
   ],
   "source": [
    "print(\"Train Accuracy:\", train_accuracy)\n",
    "print(\"Test Accuracy:\", test_accuracy)\n",
    "\n",
    "# plot the cost\n",
    "plt.plot(numpy.squeeze(costs))\n",
    "plt.ylabel('cost')\n",
    "plt.xlabel('iterations (per tens)')\n",
    "plt.title(\"Learning rate =\" + str(rate))\n",
    "plt.show()"
   ]
  },
  {
   "cell_type": "code",
   "execution_count": null,
   "metadata": {},
   "outputs": [],
   "source": []
  }
 ],
 "metadata": {
  "kernelspec": {
   "display_name": "Python 3",
   "language": "python",
   "name": "python3"
  },
  "language_info": {
   "codemirror_mode": {
    "name": "ipython",
    "version": 3
   },
   "file_extension": ".py",
   "mimetype": "text/x-python",
   "name": "python",
   "nbconvert_exporter": "python",
   "pygments_lexer": "ipython3",
   "version": "3.6.5"
  }
 },
 "nbformat": 4,
 "nbformat_minor": 2
}
