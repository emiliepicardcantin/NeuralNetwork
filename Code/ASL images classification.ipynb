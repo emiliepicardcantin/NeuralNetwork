{
 "cells": [
  {
   "cell_type": "markdown",
   "metadata": {},
   "source": [
    "# General imports"
   ]
  },
  {
   "cell_type": "code",
   "execution_count": 47,
   "metadata": {},
   "outputs": [
    {
     "name": "stdout",
     "output_type": "stream",
     "text": [
      "The autoreload extension is already loaded. To reload it, use:\n",
      "  %reload_ext autoreload\n"
     ]
    }
   ],
   "source": [
    "%load_ext autoreload\n",
    "\n",
    "import numpy\n",
    "from os import listdir,path\n",
    "import pandas"
   ]
  },
  {
   "cell_type": "markdown",
   "metadata": {},
   "source": [
    "# Loading images and creating vectors"
   ]
  },
  {
   "cell_type": "code",
   "execution_count": null,
   "metadata": {},
   "outputs": [],
   "source": [
    "categories = [\n",
    "    \"A\",\"B\",\"C\",\"D\",\"E\",\"F\",\"G\",\"H\",\"I\",\"J\",\"K\",\"L\",\"M\",\"N\",\"O\",\"P\",\"Q\",\"R\",\"S\",\"T\",\"U\",\"V\",\"W\",\"X\",\"Y\",\"Z\",\n",
    "    \"del\",\"nothing\",\"space\"\n",
    "]\n",
    "cat_to_label = {cat:i for i,cat in enumerate(categories)}\n",
    "label_to_cat = {i:cat for i,cat in enumerate(categories)}"
   ]
  },
  {
   "cell_type": "code",
   "execution_count": null,
   "metadata": {},
   "outputs": [],
   "source": [
    "training_folder = \"../Datasets/ASL/asl_alphabet_train/\"\n",
    "\n",
    "training_images = []\n",
    "training_labels = []\n",
    "testing_images = []\n",
    "testing_labels = []\n",
    "\n",
    "for cat in categories:\n",
    "    label = cat_to_label[cat]\n",
    "    files = listdir(training_folder+cat+\"/\")\n",
    "    \n",
    "    # We keep 1% for testing, 99% for training.\n",
    "    num_files = len(files)\n",
    "    num_training_files = int(numpy.ceil(num_files * 0.99))\n",
    "    training_files = files[:num_training_files]\n",
    "    testing_files = files[num_training_files:]\n",
    "    \n",
    "    training_images += [path.abspath(training_folder+cat+\"/\"+f) for f in training_files]\n",
    "    training_labels += [label for f in training_files]\n",
    "    \n",
    "    testing_images += [path.abspath(training_folder+cat+\"/\"+f) for f in testing_files]\n",
    "    testing_labels += [label for f in testing_files]\n",
    "    \n",
    "print(\"Number of training files in total : \"+str(len(training_images)))\n",
    "print(\"Number of testing files in total : \"+str(len(testing_images)))"
   ]
  },
  {
   "cell_type": "code",
   "execution_count": null,
   "metadata": {},
   "outputs": [],
   "source": [
    "%autoreload 2\n",
    "import data_processing as DP\n",
    "\n",
    "DP.write_image_vectors_to_file(training_images, 32, training_labels, \"../Datasets/ASL/train.npy\")\n",
    "DP.write_image_vectors_to_file(testing_images, 32, testing_labels, \"../Datasets/ASL/test.npy\")"
   ]
  },
  {
   "cell_type": "markdown",
   "metadata": {},
   "source": [
    "# Loading vectors and creating training and testing sets"
   ]
  },
  {
   "cell_type": "code",
   "execution_count": 10,
   "metadata": {},
   "outputs": [
    {
     "name": "stdout",
     "output_type": "stream",
     "text": [
      "(1025, 86130)\n",
      "(1025, 870)\n"
     ]
    }
   ],
   "source": [
    "training_examples = numpy.load(\"../Datasets/ASL/train.npy\")\n",
    "print(training_examples.shape)\n",
    "\n",
    "testing_examples = numpy.load(\"../Datasets/ASL/test.npy\")\n",
    "print(testing_examples.shape)"
   ]
  },
  {
   "cell_type": "code",
   "execution_count": 20,
   "metadata": {},
   "outputs": [
    {
     "name": "stdout",
     "output_type": "stream",
     "text": [
      "Examples shuffled : (1025, 10000)\n"
     ]
    }
   ],
   "source": [
    "# Shuffling examples \n",
    "numpy.random.seed(42)\n",
    "training_perm = numpy.random.permutation(training_examples.shape[1])\n",
    "shuffled_training_examples = training_examples[:, training_perm][:,:10000]\n",
    "print(\"Examples shuffled : \"+str(shuffled_training_examples.shape))"
   ]
  },
  {
   "cell_type": "code",
   "execution_count": 23,
   "metadata": {},
   "outputs": [
    {
     "name": "stdout",
     "output_type": "stream",
     "text": [
      "X_train : (1024, 10000)\n",
      "Y_train : (1, 10000)\n",
      "X_test : (1024, 870)\n",
      "Y_test : (1, 870)\n",
      "Training set : \n",
      "\tNumber of positive examples : 335\n",
      "\tNumber of negative examples : 9665\n",
      "Testing set : \n",
      "\tNumber of positive examples : 30\n",
      "\tNumber of negative examples : 840\n"
     ]
    }
   ],
   "source": [
    "# We normalize the data.\n",
    "X_train = shuffled_training_examples[1:,:] / 255 \n",
    "print(\"X_train : \"+str(X_train.shape))\n",
    "Y_train = shuffled_training_examples[:1, :]\n",
    "print(\"Y_train : \"+str(Y_train.shape))\n",
    "\n",
    "X_test = testing_examples[1:,:] / 255 \n",
    "print(\"X_test : \"+str(X_test.shape))\n",
    "Y_test = testing_examples[:1, :]\n",
    "print(\"Y_test : \"+str(Y_test.shape))\n",
    "\n",
    "# Classifying A or not A (class 0)\n",
    "train_labels = (Y_train == 0) * 1\n",
    "print(\"Training set : \")\n",
    "print(\"\\tNumber of positive examples : \"+str(numpy.sum(train_labels)))\n",
    "print(\"\\tNumber of negative examples : \"+str(numpy.sum(1-train_labels)))\n",
    "\n",
    "test_labels = (Y_test==0) *1\n",
    "print(\"Testing set : \")\n",
    "print(\"\\tNumber of positive examples : \"+str(numpy.sum(test_labels)))\n",
    "print(\"\\tNumber of negative examples : \"+str(numpy.sum(1-test_labels)))"
   ]
  },
  {
   "cell_type": "markdown",
   "metadata": {},
   "source": [
    "# Training the model"
   ]
  },
  {
   "cell_type": "code",
   "execution_count": 24,
   "metadata": {},
   "outputs": [
    {
     "name": "stdout",
     "output_type": "stream",
     "text": [
      "Cost after iteration 1: 0.843737\n",
      "Cost after iteration 1001: 0.146820\n",
      "Cost after iteration 2001: 0.144739\n",
      "Cost after iteration 3001: 0.142972\n",
      "Cost after iteration 4001: 0.140336\n",
      "Cost after iteration 5001: 0.136585\n",
      "Cost after iteration 6001: 0.132676\n",
      "Cost after iteration 7001: 0.128978\n",
      "Cost after iteration 8001: 0.125368\n",
      "Cost after iteration 9001: 0.121977\n",
      "Cost after all iterations : 0.11877417881814967\n",
      "\n"
     ]
    }
   ],
   "source": [
    "%autoreload 2\n",
    "import classification as CL\n",
    "\n",
    "num_features = X_train.shape[0]\n",
    "num_examples = X_train.shape[1]\n",
    "\n",
    "# Hyperparameters :\n",
    "n_l = [num_features, 25, 25, 25, 25 ,1]\n",
    "\n",
    "# Training model \n",
    "parameters, costs = CL.nn_model(\n",
    "    X_train, train_labels, n_l, initialization=\"xavier\", learning_rate=0.002, num_iterations=10000, print_cost=True\n",
    ")"
   ]
  },
  {
   "cell_type": "code",
   "execution_count": 25,
   "metadata": {},
   "outputs": [
    {
     "data": {
      "text/plain": [
       "[<matplotlib.lines.Line2D at 0x1062eaba8>]"
      ]
     },
     "execution_count": 25,
     "metadata": {},
     "output_type": "execute_result"
    },
    {
     "data": {
      "image/png": "[encoded data removed]",
      "text/plain": [
       "<Figure size 432x288 with 1 Axes>"
      ]
     },
     "metadata": {},
     "output_type": "display_data"
    }
   ],
   "source": [
    "import matplotlib.pyplot as plt\n",
    "plt.plot(costs)"
   ]
  },
  {
   "cell_type": "markdown",
   "metadata": {},
   "source": [
    "## Evaluating model performance"
   ]
  },
  {
   "cell_type": "markdown",
   "metadata": {},
   "source": [
    "### On the training set"
   ]
  },
  {
   "cell_type": "code",
   "execution_count": 55,
   "metadata": {},
   "outputs": [
    {
     "data": {
      "text/html": [
       "<table border=\"1\" class=\"dataframe\">\n",
       "  <thead>\n",
       "    <tr style=\"text-align: right;\">\n",
       "      <th></th>\n",
       "      <th>positive</th>\n",
       "      <th>negative</th>\n",
       "    </tr>\n",
       "  </thead>\n",
       "  <tbody>\n",
       "    <tr>\n",
       "      <th>labels</th>\n",
       "      <td>335</td>\n",
       "      <td>9665</td>\n",
       "    </tr>\n",
       "    <tr>\n",
       "      <th>predictions</th>\n",
       "      <td>13</td>\n",
       "      <td>9987</td>\n",
       "    </tr>\n",
       "    <tr>\n",
       "      <th>true_predictions</th>\n",
       "      <td>12</td>\n",
       "      <td>9664</td>\n",
       "    </tr>\n",
       "    <tr>\n",
       "      <th>false_predictions</th>\n",
       "      <td>1</td>\n",
       "      <td>323</td>\n",
       "    </tr>\n",
       "  </tbody>\n",
       "</table>"
      ],
      "text/plain": [
       "<IPython.core.display.HTML object>"
      ]
     },
     "metadata": {},
     "output_type": "display_data"
    },
    {
     "data": {
      "text/html": [
       "<table border=\"1\" class=\"dataframe\">\n",
       "  <thead>\n",
       "    <tr style=\"text-align: right;\">\n",
       "      <th></th>\n",
       "      <th>Global</th>\n",
       "    </tr>\n",
       "  </thead>\n",
       "  <tbody>\n",
       "    <tr>\n",
       "      <th>precision</th>\n",
       "      <td>0.923077</td>\n",
       "    </tr>\n",
       "    <tr>\n",
       "      <th>recall</th>\n",
       "      <td>0.035821</td>\n",
       "    </tr>\n",
       "    <tr>\n",
       "      <th>f1_score</th>\n",
       "      <td>0.068966</td>\n",
       "    </tr>\n",
       "  </tbody>\n",
       "</table>"
      ],
      "text/plain": [
       "<IPython.core.display.HTML object>"
      ]
     },
     "metadata": {},
     "output_type": "display_data"
    }
   ],
   "source": [
    "%autoreload 2\n",
    "import classification as CL\n",
    "\n",
    "predictions, A_L = CL.predict(parameters, X_train, len(n_l)-1) * 1\n",
    "score_details,f1_score = CL.compute_f1_score(predictions, train_labels)\n",
    "\n",
    "df = pandas.DataFrame.from_dict(score_details).reindex([\"labels\", \"predictions\", \"true_predictions\", \"false_predictions\"])\n",
    "display(HTML(df.to_html()))\n",
    "\n",
    "df2 = pandas.DataFrame.from_dict(f1_score, orient='index', columns=[\"Global\"])\n",
    "display(HTML(df2.to_html()))"
   ]
  },
  {
   "cell_type": "markdown",
   "metadata": {},
   "source": [
    "### On testing set"
   ]
  },
  {
   "cell_type": "code",
   "execution_count": null,
   "metadata": {},
   "outputs": [],
   "source": [
    "%autoreload 2\n",
    "import classification as CL\n",
    "\n",
    "predictions, A_L = CL.predict(parameters, X_test, len(n_l)-1) * 1\n",
    "print(\"Same : \\t\\t\"+str(numpy.sum(predictions == test_labels))+\"\\n\")\n",
    "\n",
    "cost = CL.compute_cost(A_L, test_labels, parameters)\n",
    "print(\"Cost on the testing dataset : \"+str(cost)+\"\\n\\n\")\n",
    "\n",
    "score_details,f1_score = CL.compute_f1_score(predictions, test_labels)\n",
    "\n",
    "df = pandas.DataFrame.from_dict(score_details).reindex([\"labels\", \"predictions\", \"true_predictions\", \"false_predictions\"])\n",
    "display(HTML(df.to_html()))\n",
    "\n",
    "df2 = pandas.DataFrame.from_dict(f1_score, orient='index', columns=[\"Global\"])\n",
    "display(HTML(df2.to_html()))"
   ]
  }
 ],
 "metadata": {
  "kernelspec": {
   "display_name": "Python 3",
   "language": "python",
   "name": "python3"
  },
  "language_info": {
   "codemirror_mode": {
    "name": "ipython",
    "version": 3
   },
   "file_extension": ".py",
   "mimetype": "text/x-python",
   "name": "python",
   "nbconvert_exporter": "python",
   "pygments_lexer": "ipython3",
   "version": "3.6.5"
  }
 },
 "nbformat": 4,
 "nbformat_minor": 2
}
