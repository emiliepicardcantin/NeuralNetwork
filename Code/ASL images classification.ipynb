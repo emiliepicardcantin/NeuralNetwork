{
 "cells": [
  {
   "cell_type": "markdown",
   "metadata": {},
   "source": [
    "# General imports"
   ]
  },
  {
   "cell_type": "code",
   "execution_count": 296,
   "metadata": {},
   "outputs": [
    {
     "name": "stdout",
     "output_type": "stream",
     "text": [
      "The autoreload extension is already loaded. To reload it, use:\n",
      "  %reload_ext autoreload\n"
     ]
    }
   ],
   "source": [
    "%load_ext autoreload\n",
    "\n",
    "import numpy\n",
    "from os import listdir,path\n",
    "import pandas\n",
    "import random"
   ]
  },
  {
   "cell_type": "markdown",
   "metadata": {},
   "source": [
    "# Loading images and creating vectors"
   ]
  },
  {
   "cell_type": "code",
   "execution_count": null,
   "metadata": {},
   "outputs": [],
   "source": [
    "categories = [\n",
    "    \"A\",\"B\",\"C\",\"D\",\"E\",\"F\",\"G\",\"H\",\"I\",\"J\",\"K\",\"L\",\"M\",\"N\",\"O\",\"P\",\"Q\",\"R\",\"S\",\"T\",\"U\",\"V\",\"W\",\"X\",\"Y\",\"Z\",\n",
    "    \"del\",\"nothing\",\"space\"\n",
    "]\n",
    "cat_to_label = {cat:i for i,cat in enumerate(categories)}\n",
    "label_to_cat = {i:cat for i,cat in enumerate(categories)}"
   ]
  },
  {
   "cell_type": "code",
   "execution_count": 297,
   "metadata": {},
   "outputs": [
    {
     "name": "stdout",
     "output_type": "stream",
     "text": [
      "Number of training files in total : 86130\n",
      "Number of testing files in total : 870\n"
     ]
    }
   ],
   "source": [
    "training_folder = \"../Datasets/ASL/asl_alphabet_train/\"\n",
    "\n",
    "training_images = []\n",
    "training_labels = []\n",
    "testing_images = []\n",
    "testing_labels = []\n",
    "\n",
    "for cat in categories:\n",
    "    label = cat_to_label[cat]\n",
    "    files = listdir(training_folder+cat+\"/\")\n",
    "    random.shuffle(files)\n",
    "    \n",
    "    # We keep 1% for testing, 99% for training.\n",
    "    num_files = len(files)\n",
    "    num_training_files = int(numpy.ceil(num_files * 0.99))\n",
    "    training_files = files[:num_training_files]\n",
    "    testing_files = files[num_training_files:]\n",
    "    \n",
    "    training_images += [path.abspath(training_folder+cat+\"/\"+f) for f in training_files]\n",
    "    training_labels += [label for f in training_files]\n",
    "    \n",
    "    testing_images += [path.abspath(training_folder+cat+\"/\"+f) for f in testing_files]\n",
    "    testing_labels += [label for f in testing_files]\n",
    "    \n",
    "print(\"Number of training files in total : \"+str(len(training_images)))\n",
    "print(\"Number of testing files in total : \"+str(len(testing_images)))"
   ]
  },
  {
   "cell_type": "code",
   "execution_count": 298,
   "metadata": {},
   "outputs": [
    {
     "name": "stderr",
     "output_type": "stream",
     "text": [
      "Image to vector : 100%|██████████| 86130/86130 [05:16<00:00, 272.25it/s] \n",
      "Image to vector :   6%|▋         | 56/870 [00:00<00:01, 549.36it/s]"
     ]
    },
    {
     "name": "stdout",
     "output_type": "stream",
     "text": [
      "Examples saved : (1025, 86130)\n"
     ]
    },
    {
     "name": "stderr",
     "output_type": "stream",
     "text": [
      "Image to vector : 100%|██████████| 870/870 [00:01<00:00, 552.03it/s]"
     ]
    },
    {
     "name": "stdout",
     "output_type": "stream",
     "text": [
      "Examples saved : (1025, 870)\n"
     ]
    },
    {
     "name": "stderr",
     "output_type": "stream",
     "text": [
      "\n"
     ]
    }
   ],
   "source": [
    "%autoreload 2\n",
    "import data_processing as DP\n",
    "\n",
    "DP.write_image_vectors_to_file(training_images, 32, training_labels, \"../Datasets/ASL/train.npy\")\n",
    "DP.write_image_vectors_to_file(testing_images, 32, testing_labels, \"../Datasets/ASL/test.npy\")"
   ]
  },
  {
   "cell_type": "markdown",
   "metadata": {},
   "source": [
    "# Loading vectors and creating training and testing sets"
   ]
  },
  {
   "cell_type": "code",
   "execution_count": 300,
   "metadata": {},
   "outputs": [
    {
     "name": "stdout",
     "output_type": "stream",
     "text": [
      "(1025, 86130)\n",
      "(1025, 870)\n"
     ]
    }
   ],
   "source": [
    "# We only keep classes 0,1,2,3\n",
    "max_class = 30\n",
    "\n",
    "training_examples = numpy.load(\"../Datasets/ASL/train.npy\")\n",
    "training_examples = training_examples[:, training_examples[0,:] <= max_class]\n",
    "print(training_examples.shape)\n",
    "\n",
    "testing_examples = numpy.load(\"../Datasets/ASL/test.npy\")\n",
    "testing_examples = testing_examples[:, testing_examples[0,:] <= max_class]\n",
    "print(testing_examples.shape)"
   ]
  },
  {
   "cell_type": "code",
   "execution_count": 301,
   "metadata": {},
   "outputs": [
    {
     "name": "stdout",
     "output_type": "stream",
     "text": [
      "Examples shuffled : (1025, 86130)\n"
     ]
    }
   ],
   "source": [
    "# Shuffling examples \n",
    "numpy.random.seed(42)\n",
    "subset_train_examples = training_examples\n",
    "training_perm = numpy.random.permutation(subset_train_examples.shape[1])\n",
    "shuffled_training_examples = subset_train_examples[:, training_perm]\n",
    "print(\"Examples shuffled : \"+str(shuffled_training_examples.shape))"
   ]
  },
  {
   "cell_type": "code",
   "execution_count": 302,
   "metadata": {},
   "outputs": [
    {
     "name": "stdout",
     "output_type": "stream",
     "text": [
      "X_train : (1024, 86130)\n",
      "Y_train : (1, 86130)\n",
      "X_test : (1024, 870)\n",
      "Y_test : (1, 870)\n",
      "One hot : (29, 86130)\n",
      "Training set : \n",
      "\tNumber of positive examples : 2970\n",
      "\tNumber of negative examples : 83160\n",
      "Testing set : \n",
      "\tNumber of positive examples : 30\n",
      "\tNumber of negative examples : 840\n"
     ]
    }
   ],
   "source": [
    "# We normalize the data.\n",
    "X_train = shuffled_training_examples[1:,:] / 255 \n",
    "print(\"X_train : \"+str(X_train.shape))\n",
    "Y_train = shuffled_training_examples[:1, :].astype(int)\n",
    "print(\"Y_train : \"+str(Y_train.shape))\n",
    "\n",
    "X_test = testing_examples[1:,:] / 255 \n",
    "print(\"X_test : \"+str(X_test.shape))\n",
    "Y_test = testing_examples[:1, :].astype(int)\n",
    "print(\"Y_test : \"+str(Y_test.shape))\n",
    "\n",
    "# Classifying A or not A (class 0)\n",
    "train_labels = (Y_train == 0) * 1\n",
    "\n",
    "%autoreload 2\n",
    "import classification as CL\n",
    "\n",
    "num_classes = int(numpy.max(Y_train[0])) + 1\n",
    "train_one_hot = CL.one_hot_matrix(Y_train[0], num_classes)\n",
    "print(\"One hot : \"+str(train_one_hot.shape))\n",
    "\n",
    "print(\"Training set : \")\n",
    "print(\"\\tNumber of positive examples : \"+str(numpy.sum(train_labels)))\n",
    "print(\"\\tNumber of negative examples : \"+str(numpy.sum(1-train_labels)))\n",
    "\n",
    "test_labels = (Y_test==0) *1\n",
    "print(\"Testing set : \")\n",
    "print(\"\\tNumber of positive examples : \"+str(numpy.sum(test_labels)))\n",
    "print(\"\\tNumber of negative examples : \"+str(numpy.sum(1-test_labels)))"
   ]
  },
  {
   "cell_type": "markdown",
   "metadata": {},
   "source": [
    "# Training the model"
   ]
  },
  {
   "cell_type": "code",
   "execution_count": 303,
   "metadata": {},
   "outputs": [
    {
     "name": "stdout",
     "output_type": "stream",
     "text": [
      "Cost after iteration 1: 3.436503\n",
      "Cost after iteration 1001: 2.371295\n",
      "Cost after iteration 2001: 1.800026\n",
      "Cost after iteration 3001: 1.456340\n",
      "Cost after iteration 4001: 1.212677\n",
      "Cost after all iterations : 1.0278040867556897\n",
      "\n"
     ]
    }
   ],
   "source": [
    "%autoreload 2\n",
    "import classification as CL\n",
    "\n",
    "num_features = X_train.shape[0]\n",
    "num_examples = X_train.shape[1]\n",
    "num_classes = train_one_hot.shape[0]\n",
    "\n",
    "# Hyperparameters :\n",
    "n_l = [num_features, 25, 25, num_classes]\n",
    "\n",
    "# # Training model with standard optimization\n",
    "# parameters, costs = CL.nn_model(\n",
    "#     X_train, train_one_hot, n_l, initialization=\"xavier\", learning_rate=0.00001, num_iterations=30000, print_cost=True\n",
    "# )\n",
    "\n",
    "# Training model with adam optimization\n",
    "parameters, costs = CL.nn_model(\n",
    "    X_train, train_one_hot, n_l, initialization=\"xavier\", opt_fnct=\"adam\", \n",
    "    learning_rate=0.0001, num_iterations=5000, print_cost=True\n",
    ")"
   ]
  },
  {
   "cell_type": "code",
   "execution_count": 304,
   "metadata": {},
   "outputs": [
    {
     "data": {
      "text/plain": [
       "[<matplotlib.lines.Line2D at 0x13dd080f0>]"
      ]
     },
     "execution_count": 304,
     "metadata": {},
     "output_type": "execute_result"
    },
    {
     "data": {
      "image/png": "[encoded data removed]",
      "text/plain": [
       "<Figure size 432x288 with 1 Axes>"
      ]
     },
     "metadata": {},
     "output_type": "display_data"
    }
   ],
   "source": [
    "import matplotlib.pyplot as plt\n",
    "plt.plot(costs)"
   ]
  },
  {
   "cell_type": "markdown",
   "metadata": {},
   "source": [
    "## Evaluating model performance"
   ]
  },
  {
   "cell_type": "markdown",
   "metadata": {},
   "source": [
    "### On the training set"
   ]
  },
  {
   "cell_type": "code",
   "execution_count": 305,
   "metadata": {},
   "outputs": [
    {
     "name": "stdout",
     "output_type": "stream",
     "text": [
      "Class 0 : {'precision': 0.5771732702542874, 'recall': 0.6572390572390573, 'f1_score': 0.6146095717884131}\n",
      "Class 1 : {'precision': 0.6476124085047055, 'recall': 0.6255892255892256, 'f1_score': 0.6364103442370269}\n",
      "Class 2 : {'precision': 0.7884017949603037, 'recall': 0.769023569023569, 'f1_score': 0.7785921254474177}\n",
      "Class 3 : {'precision': 0.6795208881098451, 'recall': 0.7831649831649832, 'f1_score': 0.7276708900359767}\n",
      "Class 4 : {'precision': 0.5716157205240174, 'recall': 0.44074074074074077, 'f1_score': 0.4977186311787072}\n",
      "Class 5 : {'precision': 0.7380782918149467, 'recall': 0.6983164983164983, 'f1_score': 0.7176470588235294}\n",
      "Class 6 : {'precision': 0.7101865136298422, 'recall': 0.6666666666666666, 'f1_score': 0.6877387981938172}\n",
      "Class 7 : {'precision': 0.6779819370912489, 'recall': 0.732996632996633, 'f1_score': 0.7044167610419027}\n",
      "Class 8 : {'precision': 0.8289615522817104, 'recall': 0.7767676767676768, 'f1_score': 0.8020163393012342}\n",
      "Class 9 : {'precision': 0.8146029609690444, 'recall': 0.8151515151515152, 'f1_score': 0.8148771457421744}\n",
      "Class 10 : {'precision': 0.73519882179676, 'recall': 0.8404040404040404, 'f1_score': 0.7842890809112332}\n",
      "Class 11 : {'precision': 0.807777426493835, 'recall': 0.8602693602693603, 'f1_score': 0.8331974563834991}\n",
      "Class 12 : {'precision': 0.6441389843451699, 'recall': 0.568013468013468, 'f1_score': 0.6036858114152801}\n",
      "Class 13 : {'precision': 0.7748888128634964, 'recall': 0.7626262626262627, 'f1_score': 0.768708637366367}\n",
      "Class 14 : {'precision': 0.6765644955300127, 'recall': 0.7134680134680135, 'f1_score': 0.6945263847918716}\n",
      "Class 15 : {'precision': 0.762468030690537, 'recall': 0.803030303030303, 'f1_score': 0.7822236798950475}\n",
      "Class 16 : {'precision': 0.8102089756766016, 'recall': 0.7962962962962963, 'f1_score': 0.8031923925963661}\n",
      "Class 17 : {'precision': 0.5835419274092616, 'recall': 0.6279461279461279, 'f1_score': 0.6049302627311061}\n",
      "Class 18 : {'precision': 0.7311216429699842, 'recall': 0.7791245791245791, 'f1_score': 0.754360228198859}\n",
      "Class 19 : {'precision': 0.7051409618573797, 'recall': 0.7158249158249158, 'f1_score': 0.7104427736006683}\n",
      "Class 20 : {'precision': 0.5264442636289667, 'recall': 0.4356902356902357, 'f1_score': 0.4767870302137067}\n",
      "Class 21 : {'precision': 0.524018944519621, 'recall': 0.5215488215488215, 'f1_score': 0.5227809652379345}\n",
      "Class 22 : {'precision': 0.5391783142736128, 'recall': 0.4286195286195286, 'f1_score': 0.4775839429750516}\n",
      "Class 23 : {'precision': 0.6082688875669244, 'recall': 0.6885521885521886, 'f1_score': 0.6459254579911561}\n",
      "Class 24 : {'precision': 0.6020995597697257, 'recall': 0.5986531986531987, 'f1_score': 0.6003714333952389}\n",
      "Class 25 : {'precision': 0.7038295243977764, 'recall': 0.7673400673400673, 'f1_score': 0.7342139175257731}\n",
      "Class 26 : {'precision': 0.7752403846153846, 'recall': 0.8686868686868687, 'f1_score': 0.8193077167354715}\n",
      "Class 27 : {'precision': 0.9503713706954761, 'recall': 0.9478114478114478, 'f1_score': 0.9490896830748482}\n",
      "Class 28 : {'precision': 0.7228618421052632, 'recall': 0.591919191919192, 'f1_score': 0.6508700481303221}\n"
     ]
    }
   ],
   "source": [
    "%autoreload 2\n",
    "import classification as CL\n",
    "\n",
    "predictions, A_L = CL.predict(parameters, X_train, len(n_l)-1, last_act_fnct=\"softmax\") * 1\n",
    "score_details,f1_score = CL.compute_f1_score_multi_class(predictions, Y_train[0], num_classes)\n",
    "\n",
    "# df = pandas.DataFrame.from_dict(score_details[2]).reindex([\"labels\", \"predictions\", \"true_predictions\", \"false_predictions\"])\n",
    "# display(HTML(df.to_html()))\n",
    "\n",
    "# df2 = pandas.DataFrame.from_dict(f1_score, orient='index', columns=[\"Global\"])\n",
    "# display(HTML(df2.to_html()))"
   ]
  },
  {
   "cell_type": "markdown",
   "metadata": {},
   "source": [
    "### On testing set"
   ]
  },
  {
   "cell_type": "code",
   "execution_count": 306,
   "metadata": {},
   "outputs": [
    {
     "name": "stdout",
     "output_type": "stream",
     "text": [
      "Class 0 : {'precision': 0.5405405405405406, 'recall': 0.6666666666666666, 'f1_score': 0.5970149253731343}\n",
      "Class 1 : {'precision': 0.4782608695652174, 'recall': 0.36666666666666664, 'f1_score': 0.41509433962264153}\n",
      "Class 2 : {'precision': 0.8076923076923077, 'recall': 0.7, 'f1_score': 0.75}\n",
      "Class 3 : {'precision': 0.4864864864864865, 'recall': 0.6, 'f1_score': 0.5373134328358209}\n",
      "Class 4 : {'precision': 0.4642857142857143, 'recall': 0.43333333333333335, 'f1_score': 0.4482758620689655}\n",
      "Class 5 : {'precision': 0.8636363636363636, 'recall': 0.6333333333333333, 'f1_score': 0.7307692307692307}\n",
      "Class 6 : {'precision': 0.6551724137931034, 'recall': 0.6333333333333333, 'f1_score': 0.6440677966101694}\n",
      "Class 7 : {'precision': 0.5757575757575758, 'recall': 0.6333333333333333, 'f1_score': 0.6031746031746033}\n",
      "Class 8 : {'precision': 0.9629629629629629, 'recall': 0.8666666666666667, 'f1_score': 0.912280701754386}\n",
      "Class 9 : {'precision': 0.8888888888888888, 'recall': 0.8, 'f1_score': 0.8421052631578948}\n",
      "Class 10 : {'precision': 0.8387096774193549, 'recall': 0.8666666666666667, 'f1_score': 0.8524590163934426}\n",
      "Class 11 : {'precision': 0.9333333333333333, 'recall': 0.9333333333333333, 'f1_score': 0.9333333333333333}\n",
      "Class 12 : {'precision': 0.6071428571428571, 'recall': 0.5666666666666667, 'f1_score': 0.5862068965517241}\n",
      "Class 13 : {'precision': 0.875, 'recall': 0.7, 'f1_score': 0.7777777777777777}\n",
      "Class 14 : {'precision': 0.6486486486486487, 'recall': 0.8, 'f1_score': 0.7164179104477612}\n",
      "Class 15 : {'precision': 0.7222222222222222, 'recall': 0.8666666666666667, 'f1_score': 0.7878787878787877}\n",
      "Class 16 : {'precision': 0.8888888888888888, 'recall': 0.8, 'f1_score': 0.8421052631578948}\n",
      "Class 17 : {'precision': 0.4666666666666667, 'recall': 0.4666666666666667, 'f1_score': 0.4666666666666667}\n",
      "Class 18 : {'precision': 0.65625, 'recall': 0.7, 'f1_score': 0.6774193548387096}\n",
      "Class 19 : {'precision': 0.696969696969697, 'recall': 0.7666666666666667, 'f1_score': 0.7301587301587302}\n",
      "Class 20 : {'precision': 0.45454545454545453, 'recall': 0.5, 'f1_score': 0.47619047619047616}\n",
      "Class 21 : {'precision': 0.4583333333333333, 'recall': 0.36666666666666664, 'f1_score': 0.4074074074074074}\n",
      "Class 22 : {'precision': 0.4, 'recall': 0.3333333333333333, 'f1_score': 0.3636363636363636}\n",
      "Class 23 : {'precision': 0.5111111111111111, 'recall': 0.7666666666666667, 'f1_score': 0.6133333333333334}\n",
      "Class 24 : {'precision': 0.65, 'recall': 0.43333333333333335, 'f1_score': 0.5199999999999999}\n",
      "Class 25 : {'precision': 0.7931034482758621, 'recall': 0.7666666666666667, 'f1_score': 0.7796610169491527}\n",
      "Class 26 : {'precision': 0.6923076923076923, 'recall': 0.9, 'f1_score': 0.7826086956521738}\n",
      "Class 27 : {'precision': 0.967741935483871, 'recall': 1.0, 'f1_score': 0.9836065573770492}\n",
      "Class 28 : {'precision': 0.7037037037037037, 'recall': 0.6333333333333333, 'f1_score': 0.6666666666666667}\n"
     ]
    }
   ],
   "source": [
    "%autoreload 2\n",
    "import classification as CL\n",
    "\n",
    "predictions, A_L = CL.predict(parameters, X_test, len(n_l)-1, last_act_fnct=\"softmax\")\n",
    "\n",
    "# cost = CL.compute_cost(A_L, test_labels, parameters)\n",
    "# print(\"Cost on the testing dataset : \\t\"+str(cost)+\"\\n\\n\")\n",
    "\n",
    "score_details,f1_score = CL.compute_f1_score_multi_class(predictions, Y_test[0], num_classes)\n",
    "\n",
    "# df = pandas.DataFrame.from_dict(score_details[0]).reindex([\"labels\", \"predictions\", \"true_predictions\", \"false_predictions\"])\n",
    "# display(HTML(df.to_html()))\n",
    "\n",
    "# df2 = pandas.DataFrame.from_dict(f1_score, orient='index', columns=[\"Global\"])\n",
    "# display(HTML(df2.to_html()))"
   ]
  }
 ],
 "metadata": {
  "kernelspec": {
   "display_name": "Python 3",
   "language": "python",
   "name": "python3"
  },
  "language_info": {
   "codemirror_mode": {
    "name": "ipython",
    "version": 3
   },
   "file_extension": ".py",
   "mimetype": "text/x-python",
   "name": "python",
   "nbconvert_exporter": "python",
   "pygments_lexer": "ipython3",
   "version": "3.6.5"
  }
 },
 "nbformat": 4,
 "nbformat_minor": 2
}
