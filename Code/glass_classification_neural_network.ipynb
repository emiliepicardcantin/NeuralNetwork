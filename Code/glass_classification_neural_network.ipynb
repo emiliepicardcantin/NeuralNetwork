{
 "cells": [
  {
   "cell_type": "markdown",
   "metadata": {},
   "source": [
    "# Importing packages"
   ]
  },
  {
   "cell_type": "code",
   "execution_count": 1,
   "metadata": {},
   "outputs": [],
   "source": [
    "import csv\n",
    "import numpy as np\n",
    "import math\n",
    "from random import shuffle\n",
    "\n",
    "import glass_classification as GC"
   ]
  },
  {
   "cell_type": "markdown",
   "metadata": {},
   "source": [
    "# Loading the data from file"
   ]
  },
  {
   "cell_type": "code",
   "execution_count": 2,
   "metadata": {},
   "outputs": [
    {
     "name": "stdout",
     "output_type": "stream",
     "text": [
      "Number of classes : 7\n",
      "Number of lines in the dataset : 214\n",
      "Number of features per example : 9\n",
      "\n",
      "Features : ['RI', 'Na', 'Mg', 'Al', 'Si', 'K', 'Ca', 'Ba', 'Fe']\n"
     ]
    }
   ],
   "source": [
    "dataset_file = \"glass.csv\"\n",
    "\n",
    "with open(dataset_file, newline='') as csvfile:\n",
    "    csv_reader = csv.reader(csvfile, delimiter=\",\", quotechar=\"|\")\n",
    "    headers = next(csv_reader,None)\n",
    "    dataset = np.array([[float(x) for x in row] for row in csv_reader])\n",
    "\n",
    "examples = dataset[:, :-1]\n",
    "num_examples = examples.shape[0]\n",
    "num_features = examples.shape[1]\n",
    "\n",
    "labels = dataset[:, -1]\n",
    "labels = labels.astype(int)\n",
    "\n",
    "# Shuffling examples and labels\n",
    "indexes = [i for i in range(num_examples)]\n",
    "shuffle(indexes)\n",
    "examples = examples[indexes]\n",
    "labels = labels[indexes]\n",
    "\n",
    "# Dupplicating labels for each class for the multiclass classification one-vs-all\n",
    "num_classes = max(labels)\n",
    "print(\"Number of classes : \"+str(num_classes))\n",
    "labels_by_class = np.array([((labels==i)*1).reshape((1,num_examples)) for i in range(1,num_classes+1,1)])\n",
    "\n",
    "print(\"Number of lines in the dataset : \"+str(num_examples))\n",
    "print(\"Number of features per example : \"+str(num_features)+\"\\n\")\n",
    "print(\"Features : \"+str(headers[:-1]))"
   ]
  },
  {
   "cell_type": "markdown",
   "metadata": {},
   "source": [
    "# Training the model"
   ]
  },
  {
   "cell_type": "code",
   "execution_count": 3,
   "metadata": {},
   "outputs": [
    {
     "name": "stdout",
     "output_type": "stream",
     "text": [
      "Number of classes : 7\n",
      "Number of features : 9\n",
      "Total number of examples : 214\n",
      "Number of training examples : 172\n",
      "Number of testing examples : 42\n",
      "\n",
      "\n",
      "Training model for class 0...\n",
      "Cost after all iterations : 0.6176039195048715\n",
      "\n",
      "\n",
      "\n",
      "Training model for class 1...\n",
      "Cost after all iterations : 0.6630294559865032\n",
      "\n",
      "\n",
      "\n",
      "Training model for class 2...\n",
      "Cost after all iterations : 0.2960328391321774\n",
      "\n",
      "\n",
      "\n",
      "Training model for class 3...\n",
      "Cost after all iterations : 1.4730460028128412e-05\n",
      "\n",
      "\n",
      "\n",
      "Training model for class 4...\n",
      "Cost after all iterations : 0.20530664714974145\n",
      "\n",
      "\n",
      "\n",
      "Training model for class 5...\n",
      "Cost after all iterations : 0.18811283169298096\n",
      "\n",
      "\n",
      "\n",
      "Training model for class 6...\n",
      "Cost after all iterations : 0.3823884760214366\n",
      "\n"
     ]
    }
   ],
   "source": [
    "print(\"Number of classes : \"+str(num_classes))\n",
    "\n",
    "tot_num_examples, num_features = examples.shape\n",
    "print(\"Number of features : \"+str(num_features))\n",
    "\n",
    "print(\"Total number of examples : \"+str(tot_num_examples))\n",
    "num_training = math.ceil(tot_num_examples * 0.8)\n",
    "print(\"Number of training examples : \"+str(num_training))\n",
    "num_testing = tot_num_examples - num_training\n",
    "print(\"Number of testing examples : \"+str(num_testing))\n",
    "\n",
    "n_l = [num_features, 7, 7, 1]\n",
    "training_examples = examples[:num_training, :]\n",
    "testing_examples = examples[num_training:, :]\n",
    "\n",
    "parameters_by_class = [None for i in range(num_classes)]\n",
    "\n",
    "for i in range(num_classes):\n",
    "    training_labels = labels_by_class[i][:,:num_training]\n",
    "\n",
    "    print(\"\\n\\nTraining model for class \"+str(i)+\"...\")\n",
    "    parameters = GC.nn_model(training_examples.T, training_labels, n_l, learning_rate=0.9, num_iterations=10000, print_cost=False)\n",
    "    parameters_by_class[i] = parameters"
   ]
  },
  {
   "cell_type": "markdown",
   "metadata": {},
   "source": [
    "# Making predictions"
   ]
  },
  {
   "cell_type": "code",
   "execution_count": 16,
   "metadata": {},
   "outputs": [
    {
     "name": "stdout",
     "output_type": "stream",
     "text": [
      "[59.523809523809526, 73.80952380952381, 95.23809523809523, 100.0, 90.47619047619048, 97.61904761904762, 83.33333333333334]\n"
     ]
    }
   ],
   "source": [
    "accuracy_by_class = [None for i in range(num_classes)]\n",
    "\n",
    "for i in range(num_classes):\n",
    "    predictions = GC.predict(parameters_by_class[i], testing_examples.T)\n",
    "    Y = labels_by_class[i][:,num_training:]\n",
    "    accuracy = float((np.dot(Y,predictions.T) + np.dot(1-Y,1-predictions.T))/float(Y.size)*100)\n",
    "    accuracy_by_class[i] = accuracy\n",
    "\n",
    "print(accuracy_by_class)"
   ]
  },
  {
   "cell_type": "code",
   "execution_count": null,
   "metadata": {},
   "outputs": [],
   "source": []
  }
 ],
 "metadata": {
  "kernelspec": {
   "display_name": "Python 3",
   "language": "python",
   "name": "python3"
  },
  "language_info": {
   "codemirror_mode": {
    "name": "ipython",
    "version": 3
   },
   "file_extension": ".py",
   "mimetype": "text/x-python",
   "name": "python",
   "nbconvert_exporter": "python",
   "pygments_lexer": "ipython3",
   "version": "3.6.5"
  }
 },
 "nbformat": 4,
 "nbformat_minor": 2
}
